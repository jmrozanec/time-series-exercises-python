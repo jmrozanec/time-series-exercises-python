{
 "cells": [
  {
   "cell_type": "code",
   "execution_count": null,
   "id": "af433bf2-12c0-4508-afb2-057b1e4da3c7",
   "metadata": {},
   "outputs": [],
   "source": [
    "import warnings\n",
    "warnings.filterwarnings('ignore')"
   ]
  },
  {
   "cell_type": "code",
   "execution_count": null,
   "id": "2eb1adcf",
   "metadata": {},
   "outputs": [],
   "source": [
    "# Importing the lib\n",
    "from glob import glob\n",
    "import os\n",
    "import numpy as np\n",
    "import pandas as pd\n",
    "import random\n",
    "import matplotlib.pyplot as plt"
   ]
  },
  {
   "cell_type": "code",
   "execution_count": null,
   "id": "ce7dc95a-7021-4557-b9b8-e6538ba8c400",
   "metadata": {},
   "outputs": [],
   "source": [
    "DATA_DIRECTORY='../data/forecasting'"
   ]
  },
  {
   "cell_type": "code",
   "execution_count": null,
   "id": "6221848a-1ef1-4e94-ab5d-e6a77ced0557",
   "metadata": {},
   "outputs": [],
   "source": [
    "plt.style.use('fivethirtyeight')"
   ]
  },
  {
   "cell_type": "markdown",
   "id": "97b8b171-d46d-40f5-83d0-071c5f1e5121",
   "metadata": {},
   "source": [
    "# Forecasting time series with ML - as a regression problem\n",
    "## Check original dataset for NY exchange prices"
   ]
  },
  {
   "cell_type": "code",
   "execution_count": null,
   "id": "620c876a",
   "metadata": {},
   "outputs": [],
   "source": [
    "# Load the New York stock exchange prices \n",
    "prices = pd.read_csv('{}/prices.csv'.format(DATA_DIRECTORY), index_col='date', parse_dates=True)"
   ]
  },
  {
   "cell_type": "code",
   "execution_count": null,
   "id": "a161df74-1c72-46b3-b1d2-e9ebb5f43db3",
   "metadata": {},
   "outputs": [],
   "source": [
    "prices.head()"
   ]
  },
  {
   "cell_type": "code",
   "execution_count": null,
   "id": "d8ace2fc",
   "metadata": {},
   "outputs": [],
   "source": [
    "# Plot and show the time series on axis ax1\n",
    "fig, ax1 = plt.subplots()\n",
    "prices['close'].plot(ax=ax1, figsize=(12,10))\n",
    "plt.title('New York stock prices change')\n",
    "plt.xlabel('Date')\n",
    "plt.ylabel('Stock prices')\n",
    "plt.show()"
   ]
  },
  {
   "cell_type": "code",
   "execution_count": null,
   "id": "cde630ed",
   "metadata": {},
   "outputs": [],
   "source": [
    "# print the type of the data\n",
    "prices.dtypes"
   ]
  },
  {
   "cell_type": "code",
   "execution_count": null,
   "id": "076a3b0d-1c1e-4072-b0cf-afb97ce93faf",
   "metadata": {},
   "outputs": [],
   "source": [
    "prices.index = pd.to_datetime(prices.index)"
   ]
  },
  {
   "cell_type": "markdown",
   "id": "4b01a8d8",
   "metadata": {},
   "source": [
    "## Load preprocessed prices and fit a regression model"
   ]
  },
  {
   "cell_type": "markdown",
   "id": "66744b15",
   "metadata": {},
   "source": [
    "If you want to predict patterns from data over time, there are special considerations to take in how you choose and construct your model. This section covers how to gain insights into the data before fitting your model, as well as best practices in using predictive modeling for time series data."
   ]
  },
  {
   "cell_type": "markdown",
   "id": "5b98d156",
   "metadata": {},
   "source": [
    "We will deal with stock market prices that fluctuate over time. In this section we 've got historical prices from two tech companies (Ebay and Yahoo) in the DataFrame prices"
   ]
  },
  {
   "cell_type": "code",
   "execution_count": null,
   "id": "e6360556-147c-4874-9a7b-692cf8809d4a",
   "metadata": {},
   "outputs": [],
   "source": [
    "# Load the data\n",
    "preprocessed_prices = pd.read_csv('{}/preprocessed_prices.csv'.format(DATA_DIRECTORY), parse_dates=True, index_col='date')"
   ]
  },
  {
   "cell_type": "code",
   "execution_count": null,
   "id": "a779b9b3",
   "metadata": {},
   "outputs": [],
   "source": [
    "preprocessed_prices.head(5)"
   ]
  },
  {
   "cell_type": "code",
   "execution_count": null,
   "id": "6080fd9f",
   "metadata": {
    "scrolled": true
   },
   "outputs": [],
   "source": [
    "# Plot the raw values over time\n",
    "preprocessed_prices.plot(y=['YHOO','EBAY'])\n",
    "plt.title('Market stock change for Yahoo and Ebay')\n",
    "plt.ylabel('Stock price')\n",
    "plt.xlabel('Time')\n",
    "plt.show()"
   ]
  },
  {
   "cell_type": "code",
   "execution_count": null,
   "id": "b5d69e0f",
   "metadata": {
    "scrolled": true
   },
   "outputs": [],
   "source": [
    "# Scatterplot with one company per axis\n",
    "preprocessed_prices.plot.scatter('EBAY', 'YHOO')\n",
    "plt.title('Scatter plot of Yahoo and Ebay')\n",
    "plt.show()"
   ]
  },
  {
   "cell_type": "markdown",
   "id": "45908ae0",
   "metadata": {},
   "source": [
    "Finally, encode time as the color of each datapoint in order to visualize how the relationship between these two variables changes.\n",
    "\n",
    "\n"
   ]
  },
  {
   "cell_type": "code",
   "execution_count": null,
   "id": "76ccffd8",
   "metadata": {},
   "outputs": [],
   "source": [
    "# Scatterplot with color relating to time\n",
    "preprocessed_prices.plot.scatter('EBAY', 'YHOO', c=preprocessed_prices.index, \n",
    "                    cmap=plt.cm.viridis, colorbar=True, figsize=(10,8))\n",
    "\n",
    "plt.title('Time color coded scatter plot of Yahoo and ebay')\n",
    "plt.show()"
   ]
  },
  {
   "cell_type": "code",
   "execution_count": null,
   "id": "edf65390",
   "metadata": {
    "scrolled": true
   },
   "outputs": [],
   "source": [
    "# Use stock symbols to extract training data\n",
    "X = preprocessed_prices[['EBAY', 'NVDA', 'YHOO']]\n",
    "y = preprocessed_prices[['AAPL']]"
   ]
  },
  {
   "cell_type": "code",
   "execution_count": null,
   "id": "94ccc7b9-74f1-4b98-a6b4-0f0c8ba494dc",
   "metadata": {},
   "outputs": [],
   "source": [
    "X.head(3)"
   ]
  },
  {
   "cell_type": "code",
   "execution_count": null,
   "id": "ec462269-c002-452b-b005-6eb2b1d09eca",
   "metadata": {},
   "outputs": [],
   "source": [
    "y.head(3)"
   ]
  },
  {
   "cell_type": "markdown",
   "id": "b3531c1f",
   "metadata": {},
   "source": [
    "## 3.2. Cross-validating time-series data\n"
   ]
  },
  {
   "cell_type": "code",
   "execution_count": null,
   "id": "234af4fa-f256-4870-958b-2221b61d4909",
   "metadata": {},
   "outputs": [],
   "source": [
    "print(\"We have a total of {} samples\".format(len(X.index)))"
   ]
  },
  {
   "cell_type": "code",
   "execution_count": null,
   "id": "3100d227",
   "metadata": {},
   "outputs": [],
   "source": [
    "# Import TimeSeriesSplit\n",
    "from sklearn.model_selection import TimeSeriesSplit\n",
    "\n",
    "# Create a time-series cross-validation object\n",
    "cv = TimeSeriesSplit(n_splits=10)\n",
    "\n",
    "# Iterate through CV splits\n",
    "fig, ax = plt.subplots()\n",
    "for ii, (tr, tt) in enumerate(cv.split(X, y)):\n",
    "    # Plot the training data on each iteration to see the behavior of the CV\n",
    "    ax.plot(tr, ii + y.iloc[tr]/1000)\n",
    "    \n",
    "ax.set(title='Training data on each CV iteration', ylabel='CV iteration')\n",
    "ax.set(xlabel='time')\n",
    "plt.show()"
   ]
  },
  {
   "cell_type": "code",
   "execution_count": null,
   "id": "72c43ea1",
   "metadata": {},
   "outputs": [],
   "source": [
    "from sklearn.ensemble import RandomForestRegressor\n",
    "from sklearn.metrics import mean_absolute_error\n",
    "# Keep at most the last 70 data points in the training data\n",
    "window = 70\n",
    "\n",
    "# Initialize the CV with this window size\n",
    "cv = TimeSeriesSplit(n_splits=10, max_train_size=window)\n",
    "\n",
    "fold=1\n",
    "for rows_train, rows_test in cv.split(X, y):\n",
    "    # Fit the model on training data\n",
    "    model = RandomForestRegressor()\n",
    "    model.fit(X.iloc[rows_test], y.iloc[rows_test])\n",
    "\n",
    "    # Generate predictions on the test data, score the predictions, and print them\n",
    "    prediction = model.predict(X.iloc[rows_test])\n",
    "    score = round(mean_absolute_error(y.iloc[rows_test], prediction), 4)\n",
    "    print(\"MAE for fold {} is : {}\".format(fold, score))\n",
    "    fold = fold+1"
   ]
  }
 ],
 "metadata": {
  "kernelspec": {
   "display_name": "Python 3 (ipykernel)",
   "language": "python",
   "name": "python3"
  },
  "language_info": {
   "codemirror_mode": {
    "name": "ipython",
    "version": 3
   },
   "file_extension": ".py",
   "mimetype": "text/x-python",
   "name": "python",
   "nbconvert_exporter": "python",
   "pygments_lexer": "ipython3",
   "version": "3.9.1"
  }
 },
 "nbformat": 4,
 "nbformat_minor": 5
}
