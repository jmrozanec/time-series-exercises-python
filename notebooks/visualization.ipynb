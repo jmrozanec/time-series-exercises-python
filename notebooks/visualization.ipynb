{
 "cells": [
  {
   "cell_type": "code",
   "execution_count": null,
   "id": "6ceb608c-1335-48f2-b7f9-53a8701edba3",
   "metadata": {},
   "outputs": [],
   "source": [
    "import warnings\n",
    "warnings.filterwarnings('ignore')"
   ]
  },
  {
   "cell_type": "code",
   "execution_count": null,
   "id": "f9ead587",
   "metadata": {},
   "outputs": [],
   "source": [
    "import numpy as np\n",
    "import pandas as pd \n",
    "import matplotlib.pyplot as plt"
   ]
  },
  {
   "cell_type": "code",
   "execution_count": null,
   "id": "3c9490ef-1606-498b-8736-a90920d562e9",
   "metadata": {},
   "outputs": [],
   "source": [
    "DATA_DIRECTORY='../data/analysis'"
   ]
  },
  {
   "cell_type": "code",
   "execution_count": null,
   "id": "44ca3d33-8143-4c13-8038-85fbc9c3e3ce",
   "metadata": {},
   "outputs": [],
   "source": [
    "plt.style.use('fivethirtyeight')"
   ]
  },
  {
   "cell_type": "markdown",
   "id": "492b6ea8",
   "metadata": {},
   "source": [
    "# 1. Line Plots"
   ]
  },
  {
   "cell_type": "markdown",
   "id": "b562a19c",
   "metadata": {},
   "source": [
    "## 1.1. Create time series line plots "
   ]
  },
  {
   "cell_type": "code",
   "execution_count": null,
   "id": "248885a1",
   "metadata": {},
   "outputs": [],
   "source": [
    "df = pd.read_csv('{}/discoveries.csv'.format(DATA_DIRECTORY), parse_dates=['date'], index_col='date')\n",
    "df.plot(figsize=(10,10))\n",
    "plt.show()"
   ]
  },
  {
   "cell_type": "code",
   "execution_count": null,
   "id": "7f76182a",
   "metadata": {
    "scrolled": true
   },
   "outputs": [],
   "source": [
    "df.plot(figsize=(10,10))\n",
    "plt.show()"
   ]
  },
  {
   "cell_type": "code",
   "execution_count": null,
   "id": "a265752e",
   "metadata": {},
   "outputs": [],
   "source": [
    "plt.style.available"
   ]
  },
  {
   "cell_type": "code",
   "execution_count": null,
   "id": "d44b60f0",
   "metadata": {},
   "outputs": [],
   "source": [
    "ax = df.plot(color='blue')"
   ]
  },
  {
   "cell_type": "code",
   "execution_count": null,
   "id": "3d75bcfd",
   "metadata": {
    "scrolled": true
   },
   "outputs": [],
   "source": [
    "ax = df.plot(color='red')"
   ]
  },
  {
   "cell_type": "code",
   "execution_count": null,
   "id": "533a0219",
   "metadata": {},
   "outputs": [],
   "source": [
    "ax = df.plot(color='blue', figsize=(10,10))\n",
    "ax.set_xlabel('Date')\n",
    "ax.set_ylabel('Number of great discoveries')\n",
    "ax.set_title('Number of great inventions and scientific discoveries from 1860 to 1959')\n",
    "plt.show()"
   ]
  },
  {
   "cell_type": "markdown",
   "id": "a678e244",
   "metadata": {},
   "source": [
    "## 1.2. Customize the time series plot"
   ]
  },
  {
   "cell_type": "code",
   "execution_count": null,
   "id": "25908641",
   "metadata": {},
   "outputs": [],
   "source": [
    "df_subset = df['1860':'1870']\n",
    "ax = df_subset.plot(color='blue', fontsize=14)\n",
    "plt.show()"
   ]
  },
  {
   "cell_type": "code",
   "execution_count": null,
   "id": "7c97e632",
   "metadata": {},
   "outputs": [],
   "source": [
    "# adding markers\n",
    "ax = df.plot(color='blue', figsize=(12,10))\n",
    "ax.set_xlabel('Date')\n",
    "ax.set_ylabel('Number of great discoveries')\n",
    "ax.axvline('1920-01-01', color='red', linestyle='--')\n",
    "ax.axhline(4, color='green', linestyle='--')"
   ]
  },
  {
   "cell_type": "code",
   "execution_count": null,
   "id": "f102842c",
   "metadata": {},
   "outputs": [],
   "source": [
    "# Highlighting regions of interest\n",
    "ax = df.plot(color='blue', figsize=(15,10))\n",
    "ax.set_xlabel('Date')\n",
    "ax.set_ylabel('Number of great discoveries')\n",
    "ax.axvspan('1890-01-01', '1910-01-01', color='red', alpha=0.3)\n",
    "ax.axhspan(8, 6, color='green', alpha=0.3)"
   ]
  },
  {
   "cell_type": "markdown",
   "id": "5b4d9555",
   "metadata": {},
   "source": [
    "# 2. Summary Statistics and Diagnostics"
   ]
  },
  {
   "cell_type": "markdown",
   "id": "efae6df6",
   "metadata": {},
   "source": [
    "## 2.1. Clean the time series data"
   ]
  },
  {
   "cell_type": "code",
   "execution_count": null,
   "id": "a4a22de2",
   "metadata": {},
   "outputs": [],
   "source": [
    "co2_levels = pd.read_csv('{}/co2_levels.csv'.format(DATA_DIRECTORY), parse_dates=['datestamp'], index_col='datestamp')\n",
    "co2_levels.head()"
   ]
  },
  {
   "cell_type": "code",
   "execution_count": null,
   "id": "f47ba794",
   "metadata": {},
   "outputs": [],
   "source": [
    "# count missing values \n",
    "co2_levels.isnull().sum()"
   ]
  },
  {
   "cell_type": "code",
   "execution_count": null,
   "id": "7c37f60f",
   "metadata": {},
   "outputs": [],
   "source": [
    "# Replacing missing values in a DataFrame\n",
    "co2_levels = co2_levels.fillna(method='bfill')"
   ]
  },
  {
   "cell_type": "markdown",
   "id": "e69adbd0",
   "metadata": {},
   "source": [
    "# 2.2. Plot aggregates of the data"
   ]
  },
  {
   "cell_type": "code",
   "execution_count": null,
   "id": "f813ede7",
   "metadata": {},
   "outputs": [],
   "source": [
    "# The moving average model\n",
    "co2_levels_mean = co2_levels.rolling(window=52).mean()\n",
    "ax = co2_levels_mean.plot(figsize=(12,10))\n",
    "ax.set_xlabel(\"Date\")\n",
    "ax.set_ylabel(\"The values of the Y axis\")\n",
    "ax.set_title(\"52 weeks rolling mean of the time series\")\n",
    "plt.show()"
   ]
  },
  {
   "cell_type": "code",
   "execution_count": null,
   "id": "d5fb5ae0",
   "metadata": {},
   "outputs": [],
   "source": [
    "# Plotting aggregate values of the time series\n",
    "index_month = co2_levels.index.month\n",
    "co2_levels_by_month = co2_levels.groupby(index_month).mean()\n",
    "co2_levels_by_month.plot(figsize=(12,10))\n",
    "plt.title('Monthly aggregation of the co2 level time series')\n",
    "plt.show()"
   ]
  },
  {
   "cell_type": "code",
   "execution_count": null,
   "id": "3c598236",
   "metadata": {},
   "outputs": [],
   "source": [
    "# Plotting aggregate values of the time series\n",
    "index_year = co2_levels.index.year\n",
    "co2_levels_by_year = co2_levels.groupby(index_year).mean()\n",
    "co2_levels_by_year.plot(figsize=(12,10))\n",
    "plt.title('Yearly aggregation of the co2 level time series')\n",
    "plt.show()"
   ]
  },
  {
   "cell_type": "markdown",
   "id": "a258e18c",
   "metadata": {},
   "source": [
    "## 2.3. Summarize the values in the dataset"
   ]
  },
  {
   "cell_type": "code",
   "execution_count": null,
   "id": "d861514f",
   "metadata": {},
   "outputs": [],
   "source": [
    "# Summarizing the data with boxplots\n",
    "ax1 = co2_levels.boxplot(figsize=(12,10))\n",
    "ax1.set_ylabel('Co2 levels')\n",
    "ax1.set_title('Boxplot for the co2 levels data')"
   ]
  },
  {
   "cell_type": "code",
   "execution_count": null,
   "id": "493cb89e",
   "metadata": {},
   "outputs": [],
   "source": [
    "# Summarizing the data with histograms\n",
    "ax2 = co2_levels.plot(kind='hist', bins=100, figsize=(15,10))\n",
    "ax2.set_xlabel('Co2 levels value')\n",
    "ax2.set_ylabel('Frequency of values in the co2 levels data')\n",
    "ax2.set_title('Histogram of the co2 levels data 100 bins')\n",
    "plt.show()"
   ]
  },
  {
   "cell_type": "code",
   "execution_count": null,
   "id": "55d0d823",
   "metadata": {},
   "outputs": [],
   "source": [
    "# Summarizing the data with density plots\n",
    "ax3 = co2_levels.plot(kind='density', linewidth=2, figsize=(15,10))\n",
    "ax3.set_xlabel('co2 levels data values')\n",
    "ax3.set_ylabel('Density values of the co2 levels data')\n",
    "ax3.set_title('Density plot of the co2 levels data')"
   ]
  },
  {
   "cell_type": "markdown",
   "id": "5d26ac4c",
   "metadata": {},
   "source": [
    "# 3.Seasonality, Trend, and Noise\n"
   ]
  },
  {
   "cell_type": "markdown",
   "id": "11f3fb90",
   "metadata": {},
   "source": [
    "## 3.1. Autocorrelation and Partial Autocorrelation"
   ]
  },
  {
   "cell_type": "code",
   "execution_count": null,
   "id": "c1392477",
   "metadata": {},
   "outputs": [],
   "source": [
    "# Plotting autocorrelations\n",
    "import matplotlib.pyplot as plt\n",
    "from statsmodels.graphics import tsaplots\n",
    "fig = tsaplots.plot_acf(co2_levels['co2'], lags=40)\n",
    "plt.show()"
   ]
  },
  {
   "cell_type": "code",
   "execution_count": null,
   "id": "30677a77",
   "metadata": {},
   "outputs": [],
   "source": [
    "# Plotting partial autocorrelations\n",
    "import matplotlib.pyplot as plt\n",
    "from statsmodels.graphics import tsaplots\n",
    "fig = tsaplots.plot_pacf(co2_levels['co2'], lags=40)\n",
    "plt.show()"
   ]
  },
  {
   "cell_type": "markdown",
   "id": "cc1bdca8",
   "metadata": {},
   "source": [
    "## 3.2. Seasonality, trend, and noise in time series data"
   ]
  },
  {
   "cell_type": "code",
   "execution_count": null,
   "id": "f1355c88",
   "metadata": {},
   "outputs": [],
   "source": [
    "import statsmodels.api as sm\n",
    "import matplotlib.pyplot as plt\n",
    "from pylab import rcParams\n",
    "co2_levels.plot()"
   ]
  },
  {
   "cell_type": "code",
   "execution_count": null,
   "id": "0d3a2270",
   "metadata": {
    "scrolled": true
   },
   "outputs": [],
   "source": [
    "#Time series decomposition \n",
    "rcParams['figure.figsize'] = 11, 15  # resizing the image to be big enough for us \n",
    "\n",
    "decomposition = sm.tsa.seasonal_decompose(co2_levels['co2'])\n",
    "fig = decomposition.plot()\n",
    "plt.show()"
   ]
  },
  {
   "cell_type": "code",
   "execution_count": null,
   "id": "f637b0ff",
   "metadata": {},
   "outputs": [],
   "source": [
    "# Trend component in time series\n",
    "decomp_trend = decomposition.trend\n",
    "ax = decomp_trend.plot(figsize=(14, 2))\n",
    "ax.set_xlabel('Date')\n",
    "ax.set_ylabel('CO2 - trend')\n",
    "ax.set_title('CO2 - trend')\n",
    "plt.show()"
   ]
  },
  {
   "cell_type": "code",
   "execution_count": null,
   "id": "975f0426",
   "metadata": {},
   "outputs": [],
   "source": [
    "# Seasonality component in time series\n",
    "\n",
    "decomp_seasonal = decomposition.seasonal\n",
    "ax = decomp_seasonal.plot(figsize=(14, 2))\n",
    "ax.set_xlabel('Date')\n",
    "ax.set_ylabel('CO2 - seasonality')\n",
    "ax.set_title('CO2 - seasonality')\n",
    "plt.show()"
   ]
  },
  {
   "cell_type": "code",
   "execution_count": null,
   "id": "2e1d5ca7",
   "metadata": {},
   "outputs": [],
   "source": [
    "#Noise component in time series\n",
    "decomp_resid = decomposition.resid\n",
    "ax = decomp_resid.plot(figsize=(14, 2))\n",
    "ax.set_xlabel('Date')\n",
    "ax.set_ylabel('CO2 - noise')\n",
    "ax.set_title('CO2 - noise')\n",
    "plt.show()"
   ]
  },
  {
   "cell_type": "markdown",
   "id": "9fbf6ac8",
   "metadata": {},
   "source": [
    "## 3.3. Analyzing airline data"
   ]
  },
  {
   "cell_type": "code",
   "execution_count": null,
   "id": "675aa462",
   "metadata": {},
   "outputs": [],
   "source": [
    "# upload the airline data\n",
    "airline = pd.read_csv('{}/airline_passengers.csv'.format(DATA_DIRECTORY), parse_dates=['Month'], index_col='Month')\n",
    "\n",
    "# Plot the time series in the DataFrame\n",
    "ax = airline.plot(color='blue', fontsize=12, figsize=(12,10))\n",
    "\n",
    "# Add a red vertical line at the date 1955-12-01\n",
    "ax.axvline('1955-12-01', color='red', linestyle='--')\n",
    "\n",
    "# Specify the labels in the plot\n",
    "ax.set_xlabel('Date', fontsize=12)\n",
    "ax.set_ylabel('Number of Monthly Airline Passengers', fontsize=12)\n",
    "ax.set_title('Number of Monthly Airline Passengers')\n",
    "plt.show()"
   ]
  },
  {
   "cell_type": "code",
   "execution_count": null,
   "id": "4aeab5b5",
   "metadata": {},
   "outputs": [],
   "source": [
    "# Print out the number of missing values\n",
    "airline.isnull().sum()"
   ]
  },
  {
   "cell_type": "code",
   "execution_count": null,
   "id": "9305375b-bcb2-448c-80b0-314418e2b904",
   "metadata": {},
   "outputs": [],
   "source": [
    "# Print out summary statistics of the airline DataFrame\n",
    "airline.describe()"
   ]
  },
  {
   "cell_type": "code",
   "execution_count": null,
   "id": "6f85e567",
   "metadata": {},
   "outputs": [],
   "source": [
    "# Display boxplot of airline values\n",
    "ax = airline.boxplot()\n",
    "\n",
    "# Specify the title of the plot\n",
    "ax.set_title('Boxplot of Monthly Airline\\nPassengers Count', fontsize=20)\n",
    "plt.show()"
   ]
  },
  {
   "cell_type": "code",
   "execution_count": null,
   "id": "e32072de",
   "metadata": {},
   "outputs": [],
   "source": [
    "# Get month for each dates from the index of airline\n",
    "index_month = airline.index.month\n",
    "\n",
    "# Compute the mean number of passengers for each month of the year\n",
    "mean_airline_by_month = airline.groupby(index_month).mean()\n",
    "\n",
    "# Plot the mean number of passengers for each month of the year\n",
    "mean_airline_by_month.plot()\n",
    "plt.legend(fontsize=20)\n",
    "plt.show()"
   ]
  },
  {
   "cell_type": "code",
   "execution_count": null,
   "id": "6014a98d-0152-40fc-89ff-3908d7517a8b",
   "metadata": {},
   "outputs": [],
   "source": [
    "import statsmodels.api as sm\n",
    "\n",
    "# Perform time series decompositon\n",
    "decomposition = sm.tsa.seasonal_decompose(airline)\n",
    "\n",
    "# Extract the trend and seasonal components\n",
    "trend = decomposition.trend\n",
    "seasonal = decomposition.seasonal\n",
    "\n",
    "airline_decomposed = pd.DataFrame({'Trend':trend, 'Seasonal':seasonal})"
   ]
  },
  {
   "cell_type": "code",
   "execution_count": null,
   "id": "dc0761a6-be98-4c8c-b245-0dd450d263b2",
   "metadata": {},
   "outputs": [],
   "source": [
    "# Print the first 5 rows of airline_decomposed\n",
    "airline_decomposed.head(5)"
   ]
  },
  {
   "cell_type": "code",
   "execution_count": null,
   "id": "76b5c3db-d40e-407e-bd01-ee47fa5cfd86",
   "metadata": {},
   "outputs": [],
   "source": [
    "# Plot the values of the airline_decomposed DataFrame\n",
    "ax = airline_decomposed.plot(figsize=(12, 6), fontsize=15)"
   ]
  },
  {
   "cell_type": "code",
   "execution_count": null,
   "id": "0cf45cdd",
   "metadata": {},
   "outputs": [],
   "source": [
    "# Specify axis labels\n",
    "ax.set_xlabel('Date', fontsize=15)\n",
    "plt.legend(fontsize=15)\n",
    "plt.show()"
   ]
  },
  {
   "cell_type": "markdown",
   "id": "7b48a6f1",
   "metadata": {},
   "source": [
    "# 4. Visualizing multiple time series"
   ]
  },
  {
   "cell_type": "markdown",
   "id": "f11eaa06",
   "metadata": {},
   "source": [
    "## 4.1 Working with more than one time series"
   ]
  },
  {
   "cell_type": "code",
   "execution_count": null,
   "id": "5b3c2219",
   "metadata": {},
   "outputs": [],
   "source": [
    "meat = pd.read_csv('{}/meat.csv'.format(DATA_DIRECTORY), parse_dates=['date'], index_col='date')"
   ]
  },
  {
   "cell_type": "code",
   "execution_count": null,
   "id": "05a6cae7-ab87-40bd-9f24-a2d0e6d1cb1f",
   "metadata": {},
   "outputs": [],
   "source": [
    "meat.head(5)"
   ]
  },
  {
   "cell_type": "code",
   "execution_count": null,
   "id": "5c624bcb",
   "metadata": {},
   "outputs": [],
   "source": [
    "# plotting multiple time series\n",
    "ax = meat.plot(figsize=(15, 10), fontsize=14)\n",
    "plt.show()"
   ]
  },
  {
   "cell_type": "code",
   "execution_count": null,
   "id": "26397311",
   "metadata": {},
   "outputs": [],
   "source": [
    "# Area charts\n",
    "ax = meat.plot.area(figsize=(15, 10), fontsize=14)"
   ]
  },
  {
   "cell_type": "markdown",
   "id": "c9a2b655",
   "metadata": {},
   "source": [
    "## 4.2. Plot multiple time series"
   ]
  },
  {
   "cell_type": "code",
   "execution_count": null,
   "id": "cd4527e6",
   "metadata": {},
   "outputs": [],
   "source": [
    "ax = meat.plot(colormap='Dark2', figsize=(14, 7))\n",
    "ax.set_xlabel('Date')\n",
    "ax.set_ylabel('Production Volume (in tons)')\n",
    "plt.show()"
   ]
  },
  {
   "cell_type": "code",
   "execution_count": null,
   "id": "755568e2",
   "metadata": {},
   "outputs": [],
   "source": [
    "ax = meat.plot(colormap='Dark2', figsize=(5, 8))\n",
    "df_summary = meat.describe()\n",
    "\n",
    "# Specify values of cells in the table\n",
    "ax.table(cellText=df_summary.values,\n",
    "          # Specify width of the table\n",
    "          colWidths=[0.5]*len(meat.columns),\n",
    "          # Specify row labels\n",
    "          rowLabels=df_summary.index,\n",
    "          # Specify column labels\n",
    "          colLabels=df_summary.columns,\n",
    "          # Specify location of the table\n",
    "          loc='top')\n",
    "plt.show()"
   ]
  },
  {
   "cell_type": "code",
   "execution_count": null,
   "id": "7915500c",
   "metadata": {},
   "outputs": [],
   "source": [
    "# Facet plots\n",
    "meat.plot(subplots=True,\n",
    "        linewidth=0.5,\n",
    "        layout=(2, 4),\n",
    "        figsize=(16, 12),\n",
    "        sharex=False,\n",
    "        sharey=False)\n",
    "plt.show()"
   ]
  },
  {
   "cell_type": "markdown",
   "id": "1040a879",
   "metadata": {},
   "source": [
    "## 4.3. Find relationships between multiple time series\n"
   ]
  },
  {
   "cell_type": "code",
   "execution_count": null,
   "id": "22d920e6",
   "metadata": {},
   "outputs": [],
   "source": [
    "# Computing Correlation Matrices\n",
    "from scipy.stats.stats import pearsonr\n",
    "from scipy.stats.stats import spearmanr\n",
    "from scipy.stats.stats import kendalltau"
   ]
  },
  {
   "cell_type": "markdown",
   "id": "28c4a3a2-8719-490f-8e32-927204c44d0d",
   "metadata": {},
   "source": [
    "Pearson correlation matrix"
   ]
  },
  {
   "cell_type": "code",
   "execution_count": null,
   "id": "a92af2c0-0cef-4e64-b0dd-4ec40ba6dc23",
   "metadata": {},
   "outputs": [],
   "source": [
    "corr_p = meat[['beef', 'veal','turkey']].corr(method='pearson')\n",
    "corr_p"
   ]
  },
  {
   "cell_type": "markdown",
   "id": "322915fd-0451-458f-bdc6-71949af55945",
   "metadata": {},
   "source": [
    "Spearman correlation matrix"
   ]
  },
  {
   "cell_type": "code",
   "execution_count": null,
   "id": "bd5a2426-1c7b-4f30-8b6b-3e0693e7d2b9",
   "metadata": {},
   "outputs": [],
   "source": [
    "corr_s = meat[['beef', 'veal','turkey']].corr(method='spearman')\n",
    "corr_s"
   ]
  },
  {
   "cell_type": "code",
   "execution_count": null,
   "id": "d6db8886",
   "metadata": {},
   "outputs": [],
   "source": [
    "import seaborn as sns\n",
    "corr_mat = meat.corr(method='pearson')\n",
    "sns.heatmap(corr_mat)"
   ]
  },
  {
   "cell_type": "code",
   "execution_count": null,
   "id": "8ffb40e4",
   "metadata": {},
   "outputs": [],
   "source": [
    "# Clustermap\n",
    "sns.clustermap(corr_mat)"
   ]
  },
  {
   "cell_type": "markdown",
   "id": "ca38426f",
   "metadata": {},
   "source": [
    "# 5. Case Study: Unemployment Rate"
   ]
  },
  {
   "cell_type": "markdown",
   "id": "8e831033",
   "metadata": {},
   "source": [
    "## 5.1. Summary stats"
   ]
  },
  {
   "cell_type": "code",
   "execution_count": null,
   "id": "33b1766e",
   "metadata": {
    "scrolled": true
   },
   "outputs": [],
   "source": [
    "# Read in jobs file\n",
    "jobs = pd.read_csv('{}/employment.csv'.format(DATA_DIRECTORY))"
   ]
  },
  {
   "cell_type": "code",
   "execution_count": null,
   "id": "118d3b37-9e85-41b4-87a1-5b3573aa0715",
   "metadata": {},
   "outputs": [],
   "source": [
    "# Print the first five lines of the DataFrame\n",
    "jobs.head(5)"
   ]
  },
  {
   "cell_type": "code",
   "execution_count": null,
   "id": "193f6690-e6c9-4a09-8227-9b9bea0199ca",
   "metadata": {},
   "outputs": [],
   "source": [
    "# Check the type of each column in the DataFrame\n",
    "jobs.dtypes"
   ]
  },
  {
   "cell_type": "code",
   "execution_count": null,
   "id": "924fb362-fdd2-44c5-8137-d32167519284",
   "metadata": {},
   "outputs": [],
   "source": [
    "# Convert the datestamp column to a datetime object\n",
    "jobs['datestamp'] = pd.to_datetime(jobs['datestamp'])\n",
    "\n",
    "# Set the datestamp columns as the index of the DataFrame\n",
    "jobs = jobs.set_index('datestamp')"
   ]
  },
  {
   "cell_type": "code",
   "execution_count": null,
   "id": "8fd125ca-8d1f-46e5-850d-2292d389e1f9",
   "metadata": {},
   "outputs": [],
   "source": [
    "# Check the number of missing values in each column\n",
    "jobs.isnull().sum()"
   ]
  },
  {
   "cell_type": "code",
   "execution_count": null,
   "id": "4cb736af-b856-4202-ad4e-9f3d6a7102b2",
   "metadata": {},
   "outputs": [],
   "source": [
    "# Generate a boxplot\n",
    "jobs.boxplot(fontsize=6, vert=False)\n",
    "plt.show()"
   ]
  },
  {
   "cell_type": "code",
   "execution_count": null,
   "id": "9c057fdf",
   "metadata": {},
   "outputs": [],
   "source": [
    "# Generate numerical summaries\n",
    "jobs.describe()"
   ]
  },
  {
   "cell_type": "code",
   "execution_count": null,
   "id": "6c1bd0ea",
   "metadata": {},
   "outputs": [],
   "source": [
    "# Facet plots of the jobs dataset\n",
    "jobs.plot(subplots=True, layout=(4, 4),\n",
    "          figsize=(30, 16),\n",
    "          sharex=True,\n",
    "          sharey=False)\n",
    "plt.show()"
   ]
  },
  {
   "cell_type": "code",
   "execution_count": null,
   "id": "90ab6380",
   "metadata": {},
   "outputs": [],
   "source": [
    "# Annotating events in the jobs dataset\n",
    "ax = jobs.plot(figsize=(20, 14), colormap='Dark2')\n",
    "ax.axvline('2008-01-01', color='black', linestyle='--')\n",
    "ax.axvline('2009-01-01', color='black', linestyle='--')"
   ]
  },
  {
   "cell_type": "code",
   "execution_count": null,
   "id": "7b156112-2621-4acb-b5be-d0bed452cfe1",
   "metadata": {},
   "outputs": [],
   "source": [
    "#Monthly averages in the jobs dataset\n",
    "index_month = jobs.index.month\n",
    "jobs_by_month = jobs.groupby(index_month).mean()\n",
    "jobs_by_month"
   ]
  },
  {
   "cell_type": "code",
   "execution_count": null,
   "id": "66750181",
   "metadata": {
    "scrolled": true
   },
   "outputs": [],
   "source": [
    "ax = jobs_by_month.plot(figsize=(12, 5), colormap='Dark2')\n",
    "ax.legend(bbox_to_anchor=(1.0, 0.5), loc='center left')"
   ]
  },
  {
   "cell_type": "markdown",
   "id": "4807ef86",
   "metadata": {},
   "source": [
    "## 5.2. Seasonality, trend, and noise in the time series"
   ]
  },
  {
   "cell_type": "code",
   "execution_count": null,
   "id": "fe1923e9",
   "metadata": {},
   "outputs": [],
   "source": [
    "# Decomposing multiple time series with Python dictionaries\n",
    "# Import the statsmodel library\n",
    "import statsmodels.api as sm\n",
    "# Initialize a dictionary\n",
    "dict_ts = {}\n",
    "# Extract the names of the time series\n",
    "ts_names = jobs.columns\n",
    "ts_names"
   ]
  },
  {
   "cell_type": "code",
   "execution_count": null,
   "id": "a28f38d4",
   "metadata": {},
   "outputs": [],
   "source": [
    "# Run time series decomposition\n",
    "for ts in ts_names:\n",
    "    ts_decomposition = sm.tsa.seasonal_decompose(jobs[ts])\n",
    "    dict_ts[ts] = ts_decomposition"
   ]
  },
  {
   "cell_type": "code",
   "execution_count": null,
   "id": "fa940425-e925-4199-b742-8643f10cbc10",
   "metadata": {},
   "outputs": [],
   "source": [
    "# Initialize a new dictionary for each component\n",
    "dict_trend = {}\n",
    "dict_seasonal = {}\n",
    "dict_resid = {}"
   ]
  },
  {
   "cell_type": "code",
   "execution_count": null,
   "id": "b19fbbb3",
   "metadata": {},
   "outputs": [],
   "source": [
    "# Extract the trend component\n",
    "for ts in ts_names:\n",
    "    dict_trend[ts] = dict_ts[ts].trend\n",
    "    dict_seasonal[ts] = dict_ts[ts].seasonal\n",
    "    dict_resid[ts] = dict_ts[ts].resid\n",
    "\n",
    "# Convert to a DataFrame\n",
    "trend_df = pd.DataFrame.from_dict(dict_trend)\n",
    "seasonal_df = pd.DataFrame.from_dict(dict_seasonal)\n",
    "resid_df = pd.DataFrame.from_dict(dict_resid)"
   ]
  },
  {
   "cell_type": "code",
   "execution_count": null,
   "id": "4d10c588",
   "metadata": {},
   "outputs": [],
   "source": [
    "seasonal_df.plot()\n",
    "plt.title('Seasonal component of the jobs data set')\n",
    "plt.xlabel('Years')"
   ]
  },
  {
   "cell_type": "code",
   "execution_count": null,
   "id": "63659f31",
   "metadata": {},
   "outputs": [],
   "source": [
    "trend_df.plot()\n",
    "plt.title('Trend component of the jobs data set')\n",
    "plt.xlabel('Years')"
   ]
  },
  {
   "cell_type": "code",
   "execution_count": null,
   "id": "ba4ccb3b",
   "metadata": {},
   "outputs": [],
   "source": [
    "resid_df.plot()\n",
    "plt.title('Noise component of the jobs data set')\n",
    "plt.xlabel('Years')"
   ]
  },
  {
   "cell_type": "markdown",
   "id": "9494f9c5",
   "metadata": {},
   "source": [
    "## 5.3. Compute correlations between time series"
   ]
  },
  {
   "cell_type": "markdown",
   "id": "65461e9d-326b-443e-85f9-75ed3e84c55a",
   "metadata": {},
   "source": [
    "### Plotting a clustermap of the jobs correlation matrix"
   ]
  },
  {
   "cell_type": "code",
   "execution_count": null,
   "id": "86bc6728-a99b-41af-ab79-293d0bb2f4b8",
   "metadata": {},
   "outputs": [],
   "source": [
    "# Get correlation matrix of the seasonality_df DataFrame\n",
    "trend_corr = trend_df.corr(method='spearman')"
   ]
  },
  {
   "cell_type": "code",
   "execution_count": null,
   "id": "1ea16a5b-5518-42e5-b56a-3ac89e1ace34",
   "metadata": {},
   "outputs": [],
   "source": [
    "# Customize the clustermap of the seasonality_corr\n",
    "fig = sns.clustermap(trend_corr, annot=True, linewidth=0.4,figsize=(15,10))"
   ]
  },
  {
   "cell_type": "code",
   "execution_count": null,
   "id": "9f0c7828",
   "metadata": {},
   "outputs": [],
   "source": [
    "plt.setp(fig.ax_heatmap.yaxis.get_majorticklabels(), rotation=0)\n",
    "plt.setp(fig.ax_heatmap.xaxis.get_majorticklabels(), rotation=90)"
   ]
  }
 ],
 "metadata": {
  "kernelspec": {
   "display_name": "Python 3 (ipykernel)",
   "language": "python",
   "name": "python3"
  },
  "language_info": {
   "codemirror_mode": {
    "name": "ipython",
    "version": 3
   },
   "file_extension": ".py",
   "mimetype": "text/x-python",
   "name": "python",
   "nbconvert_exporter": "python",
   "pygments_lexer": "ipython3",
   "version": "3.9.1"
  }
 },
 "nbformat": 4,
 "nbformat_minor": 5
}
