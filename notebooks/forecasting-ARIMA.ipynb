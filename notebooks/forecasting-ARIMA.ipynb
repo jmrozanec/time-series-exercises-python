{
 "cells": [
  {
   "cell_type": "markdown",
   "id": "644eed19",
   "metadata": {
    "colab_type": "text",
    "id": "view-in-github"
   },
   "source": [
    "<a href=\"https://colab.research.google.com/github/youssefHosni/Time-Series-With-Python/blob/main/Arima%20Models%20in%20Python/ARIMA_Models_In%C2%A0Python.ipynb\" target=\"_parent\"><img src=\"https://colab.research.google.com/assets/colab-badge.svg\" alt=\"Open In Colab\"/></a>"
   ]
  },
  {
   "cell_type": "code",
   "execution_count": null,
   "id": "a4c6be09-84c8-4ca0-89d0-5a5d4b1b0f21",
   "metadata": {},
   "outputs": [],
   "source": [
    "import warnings\n",
    "warnings.filterwarnings('ignore')"
   ]
  },
  {
   "cell_type": "code",
   "execution_count": null,
   "id": "zscpbuGsmlnb",
   "metadata": {
    "id": "zscpbuGsmlnb"
   },
   "outputs": [],
   "source": [
    "# import the important libraries\n",
    "import pandas as pd\n",
    "import matplotlib.pyplot as plt\n",
    "import numpy as np"
   ]
  },
  {
   "cell_type": "code",
   "execution_count": null,
   "id": "f8b795a9-4cbf-4a83-a1fd-d5a426aee623",
   "metadata": {},
   "outputs": [],
   "source": [
    "# change the plot style into fivethirtyeight \n",
    "plt.style.use('fivethirtyeight')"
   ]
  },
  {
   "cell_type": "code",
   "execution_count": null,
   "id": "a1adef16-396e-4bbf-a810-0cfc42660d4c",
   "metadata": {},
   "outputs": [],
   "source": [
    "DATA_DIRECTORY='../data/forecasting'"
   ]
  },
  {
   "cell_type": "markdown",
   "id": "6e0d9ebd-79ee-4288-88bb-75be9cd86baa",
   "metadata": {},
   "source": [
    "# 1. Autoregressive (AR) models\n",
    "An autoregressive (AR) model forecasts future behavior based on past behavior data. This type of analysis is used when there is a correlation between the time series values and their preceding and succeeding values."
   ]
  },
  {
   "cell_type": "code",
   "execution_count": null,
   "id": "813f6102-d441-4b11-8568-33afc8cfe652",
   "metadata": {},
   "outputs": [],
   "source": [
    "from statsmodels.tsa.arima_process import ArmaProcess\n",
    "ar = np.array([1, -0.9])\n",
    "ma = np.array([1])\n",
    "AR_object = ArmaProcess(ar, ma)\n",
    "simulated_data = AR_object.generate_sample(nsample=1000)\n",
    "plt.plot(simulated_data)"
   ]
  },
  {
   "cell_type": "code",
   "execution_count": null,
   "id": "962052db-2ae7-4acb-bcc7-a0ce7d9fe213",
   "metadata": {},
   "outputs": [],
   "source": [
    "# import the module for simulating data\n",
    "from statsmodels.tsa.arima_process import ArmaProcess\n",
    "\n",
    "fig, axs = plt.subplots(4)\n",
    "fig.set_size_inches(12, 14.5)\n",
    "fig.suptitle('Simulated data with different AR parameters')"
   ]
  },
  {
   "cell_type": "code",
   "execution_count": null,
   "id": "7bf316a5-0bb3-46cd-a4d2-3ed5941a6ab4",
   "metadata": {},
   "outputs": [],
   "source": [
    "# Plot 1: AR parameter = +0.9\n",
    "ar1 = np.array([1, -0.9])\n",
    "ma1 = np.array([1])\n",
    "AR_object1 = ArmaProcess(ar1, ma1)\n",
    "simulated_data_1 = AR_object1.generate_sample(nsample=1000)\n",
    "axs[0].plot(simulated_data_1)\n",
    "axs[0].set_title('Simulated data with Phi = +0.9 ')"
   ]
  },
  {
   "cell_type": "code",
   "execution_count": null,
   "id": "d35995c9-7b67-40e9-93dd-5e147684ada8",
   "metadata": {},
   "outputs": [],
   "source": [
    "# Plot 2: AR parameter = -0.9\n",
    "ar2 = np.array([1, 0.9])\n",
    "ma2 = np.array([1])\n",
    "AR_object2 = ArmaProcess(ar2, ma2)\n",
    "simulated_data_2 = AR_object2.generate_sample(nsample=1000)\n",
    "axs[1].plot(simulated_data_2)\n",
    "axs[1].set_title('Simulated data with Phi = -0.9 ')"
   ]
  },
  {
   "cell_type": "code",
   "execution_count": null,
   "id": "43369587-c337-4da4-a4f4-d6b056fdf6b8",
   "metadata": {},
   "outputs": [],
   "source": [
    "# Plot 3: AR parameter = +0.5\n",
    "ar3 = np.array([1, -0.5])\n",
    "ma3 = np.array([1])\n",
    "AR_object3 = ArmaProcess(ar3, ma3)\n",
    "simulated_data_3 = AR_object3.generate_sample(nsample=1000)\n",
    "axs[2].plot(simulated_data_3)\n",
    "axs[2].set_title('Simulated data with Phi = +0.5')"
   ]
  },
  {
   "cell_type": "code",
   "execution_count": null,
   "id": "2ea52fb4-8d71-4649-9625-992483391c15",
   "metadata": {},
   "outputs": [],
   "source": [
    "# Plot 4: AR parameter = -0.5\n",
    "ar4 = np.array([1, 0.5])\n",
    "ma4 = np.array([1])\n",
    "AR_object4 = ArmaProcess(ar4, ma4)\n",
    "simulated_data_4 = AR_object4.generate_sample(nsample=1000)\n",
    "axs[3].plot(simulated_data_4)\n",
    "axs[3].set_title('Simulated data with Phi = -0.5')"
   ]
  },
  {
   "cell_type": "code",
   "execution_count": null,
   "id": "343f2ddb-c0c0-40fa-8545-e3dc40d4661b",
   "metadata": {},
   "outputs": [],
   "source": [
    "# Import the plot_acf module from statsmodels\n",
    "from statsmodels.graphics.tsaplots import plot_acf\n",
    "\n",
    "fig, axs = plt.subplots(2,2,figsize=(15,10))\n",
    "fig.suptitle('Autocorrelation functions for different AR parameters')"
   ]
  },
  {
   "cell_type": "code",
   "execution_count": null,
   "id": "13080a42-d646-4597-b0eb-0106dded8ad0",
   "metadata": {},
   "outputs": [],
   "source": [
    "# Plot 1: AR parameter = +0.9\n",
    "plot_acf(simulated_data_1 , alpha=1, lags=20, ax=axs[0,0], title='Autocorrelation function for Phi = +0.9')"
   ]
  },
  {
   "cell_type": "code",
   "execution_count": null,
   "id": "fe23cad6-b31c-4cc2-8856-7c08cb949c61",
   "metadata": {},
   "outputs": [],
   "source": [
    "# Plot 2: AR parameter = -0.9\n",
    "plot_acf(simulated_data_2 , alpha=1, lags=20, ax=axs[0,1], title='Autocorrelation function for Phi = -0.9')"
   ]
  },
  {
   "cell_type": "code",
   "execution_count": null,
   "id": "1da4e419-5ad2-4c3d-a239-5c79ec5ed27a",
   "metadata": {},
   "outputs": [],
   "source": [
    "# Plot 3: AR parameter = +0.5\n",
    "plot_acf(simulated_data_3, alpha=1, lags=20,  ax=axs[1,0], title='Autocorrelation function for Phi = +0.5')"
   ]
  },
  {
   "cell_type": "code",
   "execution_count": null,
   "id": "8e32b4fa-98d6-46b3-b553-9eb6d7e63bb7",
   "metadata": {},
   "outputs": [],
   "source": [
    "# Plot 4: AR parameter = -0.5\n",
    "plot_acf(simulated_data_4, alpha=1, lags=20,  ax=axs[1,1], title='Autocorrelation function for Phi = -0.5')"
   ]
  },
  {
   "cell_type": "markdown",
   "id": "2777ce3c-9e0c-4485-8fea-bca346d665ac",
   "metadata": {},
   "source": [
    "## 3.2. Estimating & Forecasting AR Models"
   ]
  },
  {
   "cell_type": "code",
   "execution_count": null,
   "id": "96a4be5c-6a16-4d45-9c6f-6a623c70f720",
   "metadata": {},
   "outputs": [],
   "source": [
    "from statsmodels.tsa.arima.model import ARIMA\n",
    "mod = ARIMA(simulated_data, order=(1,0,0))\n",
    "result = mod.fit()\n",
    "result.summary()"
   ]
  },
  {
   "cell_type": "code",
   "execution_count": null,
   "id": "431656c5-8220-424a-af0c-7402919c003a",
   "metadata": {},
   "outputs": [],
   "source": [
    "print(\"Fitted parameters (see const, ar.L1, and sigma2 coefficients above): {}\".format(result.params))"
   ]
  },
  {
   "cell_type": "markdown",
   "id": "4e8af854-abf4-42d0-9bad-70ea6fe48ef4",
   "metadata": {},
   "source": [
    "## 3.3. Choosing the right model"
   ]
  },
  {
   "cell_type": "markdown",
   "id": "a8f6fe7b-7ba4-4bfb-acaa-2f96dcc34812",
   "metadata": {},
   "source": [
    "### 3.3.1 Preparing simulated data\n",
    "We prepare simulated data, so that we can later check which model fits best. \n",
    "By simulating data, we know beforehand which models should be best."
   ]
  },
  {
   "cell_type": "code",
   "execution_count": null,
   "id": "bfd08c0e-bedb-4a2d-98d1-a2054f58e72f",
   "metadata": {},
   "outputs": [],
   "source": [
    "# Import the modules for simulating data and for plotting the PACF\n",
    "from statsmodels.tsa.arima_process import ArmaProcess\n",
    "from statsmodels.graphics.tsaplots import plot_pacf\n",
    "\n",
    "# Simulate AR(1) with phi=+0.6\n",
    "ma = np.array([1])\n",
    "ar = np.array([1, -0.6])\n",
    "AR_object = ArmaProcess(ar, ma)\n",
    "simulated_data_1 = AR_object.generate_sample(nsample=5000)"
   ]
  },
  {
   "cell_type": "code",
   "execution_count": null,
   "id": "1f7f0bba-9e13-4598-a724-b2e5f9609185",
   "metadata": {},
   "outputs": [],
   "source": [
    "# Plot PACF for AR(1)\n",
    "plot_pacf(simulated_data_1, lags=20)\n",
    "plt.show()"
   ]
  },
  {
   "cell_type": "code",
   "execution_count": null,
   "id": "65476de3-1bc3-43d5-9969-00a9d97b42c5",
   "metadata": {},
   "outputs": [],
   "source": [
    "# Simulate AR(2) with phi1=+0.6, phi2=+0.3\n",
    "ma = np.array([1])\n",
    "ar = np.array([1, -0.6, -0.3])\n",
    "AR_object = ArmaProcess(ar, ma)\n",
    "simulated_data_2 = AR_object.generate_sample(nsample=5000)"
   ]
  },
  {
   "cell_type": "code",
   "execution_count": null,
   "id": "383691e5-f858-4afb-a6fb-0117dd70a171",
   "metadata": {},
   "outputs": [],
   "source": [
    "# Plot PACF for AR(2)\n",
    "plot_pacf(simulated_data_2, lags=20)\n",
    "plt.show()"
   ]
  },
  {
   "cell_type": "code",
   "execution_count": null,
   "id": "3a53af9f-da6d-4402-84f0-740ce9e31cbb",
   "metadata": {},
   "outputs": [],
   "source": [
    "mod = ARIMA(simulated_data_2, order=(2,0,0))\n",
    "result = mod.fit()\n",
    "result.summary()"
   ]
  },
  {
   "cell_type": "markdown",
   "id": "c7de6967-fe3d-43e5-b19d-46e1b6a8203e",
   "metadata": {},
   "source": [
    "## 3.3.2. Estimating model goodness with the Bayesian Information Criterion\n",
    "We test different ARIMA parameters and check for the lowest Bayesian Information Criterion."
   ]
  },
  {
   "cell_type": "code",
   "execution_count": null,
   "id": "bf6d9b07-2d77-4aeb-ac8e-03c4151914d5",
   "metadata": {
    "id": "U2tkmqr4mlnm"
   },
   "outputs": [],
   "source": [
    "# Import the module for estimating an AR model\n",
    "from statsmodels.tsa.arima.model import ARIMA\n",
    "\n",
    "# Fit the data to an AR(p) for p = 0,...,6 , and save the BIC\n",
    "BIC = np.zeros(7)\n",
    "for p in range(7):\n",
    "    mod = ARIMA(simulated_data_1, order=(p,0,0))\n",
    "    res = mod.fit()\n",
    "# Save BIC for AR(p)    \n",
    "    BIC[p] = res.bic"
   ]
  },
  {
   "cell_type": "code",
   "execution_count": null,
   "id": "f84d0130-8110-4972-9772-799701739eb1",
   "metadata": {},
   "outputs": [],
   "source": [
    "# Plot the BIC as a function of p\n",
    "plt.plot(range(1,7), BIC[1:7], marker='o')\n",
    "plt.xlabel('Order of AR Model')\n",
    "plt.ylabel('Bayesian Information Criterion')\n",
    "plt.show()"
   ]
  },
  {
   "cell_type": "code",
   "execution_count": null,
   "id": "96ce5b9b-813a-4fcb-aafb-5fac877f1baa",
   "metadata": {},
   "outputs": [],
   "source": [
    "from statsmodels.tsa.arima.model import ARIMA\n",
    "\n",
    "# Fit the data to an AR(p) for p = 0,...,6 , and save the BIC\n",
    "BIC = np.zeros(7)\n",
    "for p in range(7):\n",
    "    mod = ARIMA(simulated_data_2, order=(p,0,0))\n",
    "    res = mod.fit()\n",
    "    # Save BIC for AR(p)    \n",
    "    BIC[p] = res.bic"
   ]
  },
  {
   "cell_type": "code",
   "execution_count": null,
   "id": "59d4586d-cf4f-4544-b89e-b9b7f124b7a4",
   "metadata": {},
   "outputs": [],
   "source": [
    "# Plot the BIC as a function of p\n",
    "plt.plot(range(1,7), BIC[1:7], marker='o')\n",
    "plt.xlabel('Order of AR Model')\n",
    "plt.ylabel('Bayesian Information Criterion')\n",
    "plt.show()"
   ]
  },
  {
   "cell_type": "markdown",
   "id": "508172ef-8925-43b4-ac28-cb441a2780de",
   "metadata": {},
   "source": [
    "# 2. Fitting and forecasting ARIMA models\n",
    "## 2.1 Example on earthquake data"
   ]
  },
  {
   "cell_type": "code",
   "execution_count": null,
   "id": "30d6f69d-f18b-4387-ac9d-2a46081edd4f",
   "metadata": {},
   "outputs": [],
   "source": [
    "earthquake = pd.read_csv('{}/earthquakes.csv'.format(DATA_DIRECTORY), index_col='date', parse_dates=True)"
   ]
  },
  {
   "cell_type": "code",
   "execution_count": null,
   "id": "d667edc9-118b-41fe-b25e-31e4b9410426",
   "metadata": {},
   "outputs": [],
   "source": [
    "# Calculate log-return and drop nans\n",
    "earthquake_log = np.log(earthquake)\n",
    "earthquake_log = earthquake_log.dropna()"
   ]
  },
  {
   "cell_type": "code",
   "execution_count": null,
   "id": "73b5cbba-37ba-4ae7-9226-bdebb1949a9e",
   "metadata": {},
   "outputs": [],
   "source": [
    "from statsmodels.tsa.stattools import adfuller\n",
    "# Run test and print\n",
    "result_log = adfuller(earthquake_log['earthquakes_per_year'])"
   ]
  },
  {
   "cell_type": "code",
   "execution_count": null,
   "id": "a83e1673-0bd3-46e7-b2dc-546bdbce4e69",
   "metadata": {},
   "outputs": [],
   "source": [
    "print('The test stastics:', round(result_log[0], 4))"
   ]
  },
  {
   "cell_type": "code",
   "execution_count": null,
   "id": "80073d4f-7818-47f9-a0fc-0a4b48e1d458",
   "metadata": {},
   "outputs": [],
   "source": [
    "# Print p-value\n",
    "print(\"The p-value:\", round(result_log[1], 4))"
   ]
  },
  {
   "cell_type": "code",
   "execution_count": null,
   "id": "b5742552-bc6a-4b1a-98c2-39c4625f9117",
   "metadata": {},
   "outputs": [],
   "source": [
    "from statsmodels.graphics.tsaplots import plot_acf, plot_pacf\n",
    "# Make ACF plot\n",
    "plot_acf(earthquake['earthquakes_per_year'], lags=10, zero=False)\n",
    "plt.show()"
   ]
  },
  {
   "cell_type": "code",
   "execution_count": null,
   "id": "29bdd6b8-d41f-4146-94a0-e27bec0e2c7c",
   "metadata": {},
   "outputs": [],
   "source": [
    "# Make PACF plot\n",
    "plot_pacf(earthquake['earthquakes_per_year'], lags=10, zero=False)\n",
    "plt.show()"
   ]
  },
  {
   "cell_type": "code",
   "execution_count": null,
   "id": "14d3b98c-d27f-4221-bad4-059134a1f626",
   "metadata": {},
   "outputs": [],
   "source": [
    "import statsmodels.api as sm\n",
    "order_aic_bic =[]\n",
    "# Loop over p values from 0-2\n",
    "for p in range(3):\n",
    "    # Loop over q values from 0-2\n",
    "    for q in range(3):\n",
    "      \n",
    "        try:\n",
    "            # create and fit ARMA(p,q) model\n",
    "            model = sm.tsa.statespace.SARIMAX(earthquake['earthquakes_per_year'], order=(p, 0, q))\n",
    "            results = model.fit()\n",
    "            \n",
    "            # Print order and results\n",
    "            order_aic_bic.append((p, q, results.aic, results.bic)) \n",
    "            print(\"==================================================\\n\")\n",
    "        except:\n",
    "            print(p, q, None, None)"
   ]
  },
  {
   "cell_type": "code",
   "execution_count": null,
   "id": "d75ae325-e398-4e8f-a433-04894c7d35c2",
   "metadata": {},
   "outputs": [],
   "source": [
    "# Make DataFrame of model order and AIC/BIC scores\n",
    "order_df = pd.DataFrame(order_aic_bic, columns=['p', 'q', 'aic','bic'])"
   ]
  },
  {
   "cell_type": "code",
   "execution_count": null,
   "id": "bbecf16e-171b-4dcf-a308-d47fe87e6be8",
   "metadata": {},
   "outputs": [],
   "source": [
    "# Models sorted by AIC\n",
    "order_df.sort_values('aic').reset_index(drop=True)"
   ]
  },
  {
   "cell_type": "code",
   "execution_count": null,
   "id": "7472d69f-4a01-496a-83bb-8cb74a0facc1",
   "metadata": {},
   "outputs": [],
   "source": [
    "# Models sorted by BIC\n",
    "order_df.sort_values('bic').reset_index(drop=True)"
   ]
  },
  {
   "cell_type": "markdown",
   "id": "597f796c-d1e2-48d7-a8d4-306a27fd8fa2",
   "metadata": {},
   "source": [
    "### Model diagnostic and performance assessment"
   ]
  },
  {
   "cell_type": "code",
   "execution_count": null,
   "id": "aed81260-27b2-41f2-ae0d-a52771db33df",
   "metadata": {},
   "outputs": [],
   "source": [
    "# The model with the best p and q found from previous step\n",
    "model = sm.tsa.statespace.SARIMAX(earthquake['earthquakes_per_year'], order=(1, 0, 1))"
   ]
  },
  {
   "cell_type": "code",
   "execution_count": null,
   "id": "793516fb-47cc-4df5-bcf4-68bf6221f6d4",
   "metadata": {},
   "outputs": [],
   "source": [
    "results = model.fit()"
   ]
  },
  {
   "cell_type": "code",
   "execution_count": null,
   "id": "6fec6fef-2ce2-4106-a684-39581a9c6424",
   "metadata": {},
   "outputs": [],
   "source": [
    "# Assign residuals to variable\n",
    "residuals = results.resid"
   ]
  },
  {
   "cell_type": "code",
   "execution_count": null,
   "id": "508dcdb5-762b-429e-9b15-04e74ebc3b25",
   "metadata": {},
   "outputs": [],
   "source": [
    "residuals"
   ]
  },
  {
   "cell_type": "code",
   "execution_count": null,
   "id": "1e3f5a39-e853-4043-82b3-ec8ce6bc1a71",
   "metadata": {},
   "outputs": [],
   "source": [
    "# The mean absolute error\n",
    "mae = np.mean(np.abs(residuals))\n",
    "print(\"MAE: {}\".format(round(mae, 4)))"
   ]
  },
  {
   "cell_type": "code",
   "execution_count": null,
   "id": "ae054548-2029-46ec-9c71-d17de87c04d0",
   "metadata": {},
   "outputs": [],
   "source": [
    "# Create the four diagostics plots\n",
    "results.plot_diagnostics(figsize=(10,10))\n",
    "plt.show()"
   ]
  },
  {
   "cell_type": "code",
   "execution_count": null,
   "id": "5fd0c6e6-2c0b-48d7-a1ad-1fceaf26291d",
   "metadata": {},
   "outputs": [],
   "source": [
    "# Summary statistics\n",
    "results.summary()"
   ]
  },
  {
   "cell_type": "markdown",
   "id": "fd741e1f-f899-4412-ad65-f19eca40a8da",
   "metadata": {},
   "source": [
    "## 2.1 Example on stock data (non-stationary data)"
   ]
  },
  {
   "cell_type": "code",
   "execution_count": null,
   "id": "96a1b2de-77b4-409b-aeff-9149bf4b05a8",
   "metadata": {},
   "outputs": [],
   "source": [
    "amazon = pd.read_csv('{}/amazon_close.csv'.format(DATA_DIRECTORY), index_col='date', parse_dates=True)"
   ]
  },
  {
   "cell_type": "code",
   "execution_count": null,
   "id": "794048dd-086a-40b1-87c3-ecdb03e9f23b",
   "metadata": {},
   "outputs": [],
   "source": [
    "amazon.plot()"
   ]
  },
  {
   "cell_type": "code",
   "execution_count": null,
   "id": "3bf70174-d33f-42ce-8dfb-0a33e13ebe35",
   "metadata": {},
   "outputs": [],
   "source": [
    "from statsmodels.tsa.stattools import adfuller\n",
    "# How to understand the coefficients below?\n",
    "# Check the following documentation: https://www.statsmodels.org/dev/generated/statsmodels.tsa.stattools.adfuller.html\n",
    "results = adfuller(amazon)"
   ]
  },
  {
   "cell_type": "code",
   "execution_count": null,
   "id": "e6954624-2bc4-4888-8747-7f460a9f5f43",
   "metadata": {},
   "outputs": [],
   "source": [
    "print('The test stastics:', round(results[0], 4))"
   ]
  },
  {
   "cell_type": "code",
   "execution_count": null,
   "id": "a4a8d938-b6f8-498d-a255-b4ef65c866e1",
   "metadata": {},
   "outputs": [],
   "source": [
    "# Print p-value\n",
    "print(\"The p-value:\", round(results[1], 4))"
   ]
  },
  {
   "cell_type": "code",
   "execution_count": null,
   "id": "6825a4d5-3e54-4d4b-8d8d-e93024ce230d",
   "metadata": {},
   "outputs": [],
   "source": [
    "# Instantiate the model\n",
    "model = ARIMA(amazon, order=(1,1,1))"
   ]
  },
  {
   "cell_type": "code",
   "execution_count": null,
   "id": "d31e4d3e-5aec-4b4e-be8b-d17f829f8e29",
   "metadata": {},
   "outputs": [],
   "source": [
    "# Fit the model\n",
    "results = model.fit()"
   ]
  },
  {
   "cell_type": "code",
   "execution_count": null,
   "id": "6f7173e6-5f1f-41d1-b3e0-49fecb8016ce",
   "metadata": {},
   "outputs": [],
   "source": [
    "# Print model fit summary\n",
    "results.summary()"
   ]
  },
  {
   "cell_type": "code",
   "execution_count": null,
   "id": "00c3006c-a82d-4301-a663-ad4b98e5731b",
   "metadata": {},
   "outputs": [],
   "source": [
    "# Generate predictions\n",
    "one_step_forecast = results.get_prediction(end=20)"
   ]
  },
  {
   "cell_type": "code",
   "execution_count": null,
   "id": "3353cbed-4992-4221-88cc-67be813c224b",
   "metadata": {},
   "outputs": [],
   "source": [
    "# Extract prediction mean\n",
    "mean_forecast = one_step_forecast.predicted_mean"
   ]
  },
  {
   "cell_type": "code",
   "execution_count": null,
   "id": "4d690b17-d593-41ea-92dc-d12839b19baf",
   "metadata": {},
   "outputs": [],
   "source": [
    "# Get confidence intervals of  predictions\n",
    "confidence_intervals = one_step_forecast.conf_int()"
   ]
  },
  {
   "cell_type": "code",
   "execution_count": null,
   "id": "b10ecc48-c6bd-4710-a2c7-4fead3f26672",
   "metadata": {},
   "outputs": [],
   "source": [
    "# Select lower and upper confidence limits\n",
    "lower_limits = confidence_intervals.loc[:,'lower close']\n",
    "upper_limits = confidence_intervals.loc[:,'upper close']"
   ]
  },
  {
   "cell_type": "code",
   "execution_count": null,
   "id": "eaea3105-334c-47eb-abba-b25d95c9d051",
   "metadata": {},
   "outputs": [],
   "source": [
    "# Print the best estimate predictions\n",
    "mean_forecast.head(5)"
   ]
  },
  {
   "cell_type": "code",
   "execution_count": null,
   "id": "6498a291-0c7e-40ee-973b-b94a1934d76f",
   "metadata": {},
   "outputs": [],
   "source": [
    "mean_forecast = mean_forecast[1:]"
   ]
  },
  {
   "cell_type": "code",
   "execution_count": null,
   "id": "69461292-aeeb-4d6b-8471-954125edd1f0",
   "metadata": {},
   "outputs": [],
   "source": [
    "mean_forecast.head(5)"
   ]
  },
  {
   "cell_type": "code",
   "execution_count": null,
   "id": "8215a9b7-e84c-4102-8312-8af52f2a59ea",
   "metadata": {},
   "outputs": [],
   "source": [
    "# plot the amazon data\n",
    "plt.plot(amazon.index, amazon, label='observed')"
   ]
  },
  {
   "cell_type": "code",
   "execution_count": null,
   "id": "2af71004-49d1-4fea-97a7-5ff58dadef23",
   "metadata": {},
   "outputs": [],
   "source": [
    "# plot your mean predictions\n",
    "plt.plot(mean_forecast.index,mean_forecast,color='r', label='forecast')"
   ]
  },
  {
   "cell_type": "code",
   "execution_count": null,
   "id": "3adafdee-f903-4bc7-a39f-324dd56ae697",
   "metadata": {},
   "outputs": [],
   "source": [
    "# shade the area between your confidence limits\n",
    "plt.fill_between(lower_limits.index, lower_limits, upper_limits, color='pink')"
   ]
  },
  {
   "cell_type": "code",
   "execution_count": null,
   "id": "7f000352-f79f-4614-9669-312f5af3f6f1",
   "metadata": {},
   "outputs": [],
   "source": [
    "# set labels, legends, and show the plot\n",
    "plt.xlabel('Date')\n",
    "plt.ylabel('Amazon Stock Price - Close USD')\n",
    "plt.legend()\n",
    "plt.show()"
   ]
  },
  {
   "cell_type": "markdown",
   "id": "4ab506ed-c876-4900-957a-d1d8e4788159",
   "metadata": {},
   "source": [
    "#### We repeat the procedure above with an offset relative to the start at which to begin dynamic prediction.\n",
    "Before this observation, actual endogenous values will be used for prediction; starting with this observation and continuing through the end of prediction, forecasted endogenous values will be used instead."
   ]
  },
  {
   "cell_type": "code",
   "execution_count": null,
   "id": "f545f5bc-f790-437d-9a57-347304ea459d",
   "metadata": {},
   "outputs": [],
   "source": [
    "# Generate predictions\n",
    "dynamic_forecast = results.get_prediction(end= 20, dynamic=True)"
   ]
  },
  {
   "cell_type": "code",
   "execution_count": null,
   "id": "e84156a2-f087-47c6-861b-668c391b6533",
   "metadata": {},
   "outputs": [],
   "source": [
    "# Extract prediction mean\n",
    "mean_forecast = dynamic_forecast.predicted_mean"
   ]
  },
  {
   "cell_type": "code",
   "execution_count": null,
   "id": "0205d191-fba0-447f-a859-d05be08719a5",
   "metadata": {},
   "outputs": [],
   "source": [
    "# Get confidence intervals of predictions\n",
    "confidence_intervals = dynamic_forecast.conf_int()"
   ]
  },
  {
   "cell_type": "code",
   "execution_count": null,
   "id": "43668b29-4464-49a0-9d8e-b70de3036388",
   "metadata": {},
   "outputs": [],
   "source": [
    "# Select lower and upper confidence limits\n",
    "lower_limits = confidence_intervals.loc[:,'lower close']\n",
    "upper_limits = confidence_intervals.loc[:,'upper close']"
   ]
  },
  {
   "cell_type": "code",
   "execution_count": null,
   "id": "de6ec001-1187-46a8-bea3-7ff59f798f4e",
   "metadata": {},
   "outputs": [],
   "source": [
    "# Print best estimate predictions\n",
    "mean_forecast.head(5)"
   ]
  },
  {
   "cell_type": "code",
   "execution_count": null,
   "id": "b1bcc5a6-49a3-4c31-aa76-3130bc7d5500",
   "metadata": {},
   "outputs": [],
   "source": [
    "# plot the amazon data\n",
    "plt.plot(amazon.index, amazon, label='observed')"
   ]
  },
  {
   "cell_type": "code",
   "execution_count": null,
   "id": "dcc28365-2e8b-418a-bc1d-5d6a8a3ead28",
   "metadata": {},
   "outputs": [],
   "source": [
    "# plot the mean forecast\n",
    "plt.plot(mean_forecast.index, mean_forecast, color='r', label='forecast')"
   ]
  },
  {
   "cell_type": "code",
   "execution_count": null,
   "id": "cb053419-3a52-480f-9bb3-67036dc7774f",
   "metadata": {},
   "outputs": [],
   "source": [
    "# shade the area between the confidence limits\n",
    "plt.fill_between(lower_limits.index, lower_limits, upper_limits, color='pink')"
   ]
  },
  {
   "cell_type": "code",
   "execution_count": null,
   "id": "fcb03cf5-ac82-40b8-9e3b-71fd5044e400",
   "metadata": {},
   "outputs": [],
   "source": [
    "# set labels, legends, and the show plot\n",
    "plt.xlabel('Date')\n",
    "plt.ylabel('Amazon Stock Price - Close USD')\n",
    "plt.legend()\n",
    "plt.show()"
   ]
  },
  {
   "cell_type": "markdown",
   "id": "2436e0f5-52e7-4dd8-9ac4-73c13b0f6bb3",
   "metadata": {},
   "source": [
    "#### We repeat the procedure above, making data stationary by differencing first\n",
    "Before this observation, true endogenous values will be used for prediction; starting with this observation and continuing through the end of prediction, forecasted endogenous values will be used instead."
   ]
  },
  {
   "cell_type": "code",
   "execution_count": null,
   "id": "5e3aa468-ffb6-4ecb-9976-be777515ceb2",
   "metadata": {},
   "outputs": [],
   "source": [
    "# take the first diff\n",
    "amazon_diff = amazon.diff()\n",
    "amazon_diff.dropna(inplace=True)"
   ]
  },
  {
   "cell_type": "code",
   "execution_count": null,
   "id": "6b84d0f6-8db8-4013-9ade-1dff74a34e34",
   "metadata": {},
   "outputs": [],
   "source": [
    "from statsmodels.tsa.stattools import adfuller\n",
    "# Run Dicky-Fuller test\n",
    "result = adfuller(amazon_diff)"
   ]
  },
  {
   "cell_type": "code",
   "execution_count": null,
   "id": "8c2708e0-759c-4f73-986f-54ba7f376521",
   "metadata": {},
   "outputs": [],
   "source": [
    "# Print test statistic\n",
    "print('The test stastics:', round(result[0], 4))"
   ]
  },
  {
   "cell_type": "code",
   "execution_count": null,
   "id": "a2a17e5a-3937-4b30-93cf-3017b77efe4c",
   "metadata": {},
   "outputs": [],
   "source": [
    "# Print p-value\n",
    "print(\"The p-value:\", round(result[1], 4))"
   ]
  },
  {
   "cell_type": "code",
   "execution_count": null,
   "id": "6ecdc2f5-7338-4508-ac10-db73479987e5",
   "metadata": {},
   "outputs": [],
   "source": [
    "from statsmodels.tsa.arima.model import ARIMA\n",
    "# Instantiate model object\n",
    "model = ARIMA(amazon_diff, order=(1,0,1))"
   ]
  },
  {
   "cell_type": "code",
   "execution_count": null,
   "id": "439479eb-c13f-4ecd-9a1c-f873420106b1",
   "metadata": {},
   "outputs": [],
   "source": [
    "results = model.fit()"
   ]
  },
  {
   "cell_type": "code",
   "execution_count": null,
   "id": "beb99eda-94c6-4b9f-bb89-372484856960",
   "metadata": {},
   "outputs": [],
   "source": [
    "results.summary()"
   ]
  },
  {
   "cell_type": "code",
   "execution_count": null,
   "id": "ca1365ee-d24f-478a-89ed-60632927cf7a",
   "metadata": {},
   "outputs": [],
   "source": [
    "from statsmodels.tsa.arima.model import ARIMA\n",
    "# Instantiate model object\n",
    "model = ARIMA(amazon, order=(1,1,1))"
   ]
  },
  {
   "cell_type": "code",
   "execution_count": null,
   "id": "7610cf0b-549e-49e6-96c0-6bceb1e2ab0e",
   "metadata": {},
   "outputs": [],
   "source": [
    "results = model.fit()"
   ]
  },
  {
   "cell_type": "code",
   "execution_count": null,
   "id": "52f405ba-2527-47a1-890f-0d0aaff2a541",
   "metadata": {},
   "outputs": [],
   "source": [
    "results.summary()"
   ]
  },
  {
   "cell_type": "markdown",
   "id": "fcb57c3e-5c5b-4ba8-b6bb-714ce58410a0",
   "metadata": {},
   "source": [
    "## 2.1 Example of CO2 data (the Box-Jenkins method)\n",
    "Box-Jenkins Analysis refers to a systematic method of identifying, fitting, checking, and using integrated autoregressive, moving average (ARIMA) time series models. The method is appropriate for time series of medium to long length (at least 50 observations)."
   ]
  },
  {
   "cell_type": "code",
   "execution_count": null,
   "id": "2f19298f-25d7-4dbc-831d-19a5dafb0da7",
   "metadata": {},
   "outputs": [],
   "source": [
    "co2 = pd.read_csv('{}/co2.csv'.format(DATA_DIRECTORY), index_col='date', parse_dates=True)"
   ]
  },
  {
   "cell_type": "code",
   "execution_count": null,
   "id": "0b4fea3e-4945-4a72-a35b-73a8c293b700",
   "metadata": {},
   "outputs": [],
   "source": [
    "co2.plot()"
   ]
  },
  {
   "cell_type": "code",
   "execution_count": null,
   "id": "73fc5c48-7c25-4da1-9e85-a61f6e7c0f6f",
   "metadata": {},
   "outputs": [],
   "source": [
    "from statsmodels.tsa.stattools import adfuller\n",
    "\n",
    "# Run Dicky-Fuller test\n",
    "result = adfuller(co2)"
   ]
  },
  {
   "cell_type": "code",
   "execution_count": null,
   "id": "360c4581-7cef-41c6-a81c-2d05be46bdb2",
   "metadata": {},
   "outputs": [],
   "source": [
    "# Print test statistic\n",
    "print('The test stastics:', round(result[0], 4))"
   ]
  },
  {
   "cell_type": "code",
   "execution_count": null,
   "id": "a8a7b798-19c0-4f28-a08e-417224f41a75",
   "metadata": {},
   "outputs": [],
   "source": [
    "# Print p-value\n",
    "print(\"The p-value:\", round(result[1], 4))"
   ]
  },
  {
   "cell_type": "code",
   "execution_count": null,
   "id": "4166fa7a-3e19-446e-977a-8897a845b58c",
   "metadata": {},
   "outputs": [],
   "source": [
    "co2_diff = co2.diff()\n",
    "co2_diff = co2_diff.dropna()\n",
    "co2_diff.plot()"
   ]
  },
  {
   "cell_type": "code",
   "execution_count": null,
   "id": "601e1e52-b4a4-4d00-b4d6-acda6c6883ab",
   "metadata": {},
   "outputs": [],
   "source": [
    "# Run Dicky-Fuller test\n",
    "result_diff = adfuller(co2_diff)"
   ]
  },
  {
   "cell_type": "code",
   "execution_count": null,
   "id": "b8f06532-2998-422f-942f-5a073db1b8e8",
   "metadata": {},
   "outputs": [],
   "source": [
    "# Print test statistic\n",
    "print('The test stastics:', round(result_diff[0], 4))"
   ]
  },
  {
   "cell_type": "code",
   "execution_count": null,
   "id": "c48d9101-720e-4a68-a957-715d3f20b79e",
   "metadata": {},
   "outputs": [],
   "source": [
    "# Print p-value\n",
    "print(\"The p-value:\", round(result_diff[1], 4))"
   ]
  },
  {
   "cell_type": "code",
   "execution_count": null,
   "id": "201318d8-57b2-4d22-9284-18187f79dfd3",
   "metadata": {},
   "outputs": [],
   "source": [
    "from statsmodels.graphics.tsaplots import plot_acf, plot_pacf\n",
    "\n",
    "# Create figure\n",
    "fig, (ax1, ax2) = plt.subplots(2,1, figsize=(12,8))"
   ]
  },
  {
   "cell_type": "code",
   "execution_count": null,
   "id": "f2ffe6f1-9d68-469d-a5f4-8562633d20b6",
   "metadata": {},
   "outputs": [],
   "source": [
    "# Plot the ACF of savings on ax1\n",
    "plot_acf(co2_diff, lags=50, zero=False, ax=ax1)"
   ]
  },
  {
   "cell_type": "code",
   "execution_count": null,
   "id": "e2e38953-8ef2-4aba-adbf-b1e9eb41aa22",
   "metadata": {},
   "outputs": [],
   "source": [
    "# Plot the PACF of savings on ax2\n",
    "plot_pacf(co2_diff, lags=50, zero=False, ax=ax2)"
   ]
  },
  {
   "cell_type": "code",
   "execution_count": null,
   "id": "64f00704-f8dd-46a3-b6c2-93fd9785d8e8",
   "metadata": {},
   "outputs": [],
   "source": [
    "plt.show()"
   ]
  },
  {
   "cell_type": "code",
   "execution_count": null,
   "id": "51a369d5-0673-4a49-98b2-713aaded410e",
   "metadata": {},
   "outputs": [],
   "source": [
    "import statsmodels.api as sm\n",
    "order_aic_bic =[]\n",
    "\n",
    "# Loop over p values from 0-4\n",
    "for p in range(5):\n",
    "    # Loop over q values from 0-4\n",
    "    for q in range(5):\n",
    "      \n",
    "        try:\n",
    "            # create and fit ARMA(p,q) model\n",
    "            model = sm.tsa.statespace.SARIMAX(co2, order=(p, 1, q))\n",
    "            results = model.fit()\n",
    "            \n",
    "            # Print order and results\n",
    "            order_aic_bic.append((p, q, results.aic, results.bic))\n",
    "            print(\"====================================================\")\n",
    "        except:\n",
    "            print(p, q, None, None)"
   ]
  },
  {
   "cell_type": "code",
   "execution_count": null,
   "id": "b9ebc75c-c5ac-4ed8-8064-594bbc2fd641",
   "metadata": {},
   "outputs": [],
   "source": [
    "# Make DataFrame of model order and AIC/BIC scores\n",
    "order_df = pd.DataFrame(order_aic_bic, columns=['p', 'q', 'aic','bic'])"
   ]
  },
  {
   "cell_type": "code",
   "execution_count": null,
   "id": "5c258464-0205-4386-a3f4-8d6361908a65",
   "metadata": {},
   "outputs": [],
   "source": [
    "order_df.sort_values('aic').reset_index(drop=True)"
   ]
  },
  {
   "cell_type": "code",
   "execution_count": null,
   "id": "e261446d-5148-4ef7-8e80-1881e0dbdbc7",
   "metadata": {},
   "outputs": [],
   "source": [
    "order_df.sort_values('bic').reset_index(drop=True)"
   ]
  },
  {
   "cell_type": "code",
   "execution_count": null,
   "id": "c3b7fe6d-6093-4244-88e3-6d20dcb395b1",
   "metadata": {},
   "outputs": [],
   "source": [
    "# Create and fit model\n",
    "model = sm.tsa.statespace.SARIMAX(co2, order=(4,1,4), trend='c')\n",
    "results = model.fit()"
   ]
  },
  {
   "cell_type": "code",
   "execution_count": null,
   "id": "eeea6f99-489c-4e67-993a-45dc266cb724",
   "metadata": {},
   "outputs": [],
   "source": [
    "# Create the four diagostics plots\n",
    "results.plot_diagnostics(figsize=(10,10))\n",
    "plt.show()"
   ]
  },
  {
   "cell_type": "code",
   "execution_count": null,
   "id": "52486cb6-2228-44da-8fb4-6b0b9f2c3e66",
   "metadata": {},
   "outputs": [],
   "source": [
    "results.summary()"
   ]
  },
  {
   "cell_type": "markdown",
   "id": "wL9Zyoqsmlom",
   "metadata": {
    "id": "wL9Zyoqsmlom"
   },
   "source": [
    "The p-value is less than 0.05, therefore the data is stationary"
   ]
  },
  {
   "cell_type": "code",
   "execution_count": null,
   "id": "rdAM6aQZmloo",
   "metadata": {
    "id": "rdAM6aQZmloo",
    "outputId": "53d3cec6-1966-4ad4-b994-fb01d38638a5"
   },
   "outputs": [],
   "source": [
    "from statsmodels.tsa.arima.model import ARIMA\n",
    "# Instantiate model object\n",
    "model = ARIMA(amazon_diff, order=(1,0,1))\n",
    "# Fit model\n",
    "results = model.fit()\n",
    "results.summary()"
   ]
  },
  {
   "cell_type": "code",
   "execution_count": null,
   "id": "JBoEb8Bzmlop",
   "metadata": {
    "id": "JBoEb8Bzmlop",
    "outputId": "ab71d7fa-acea-40e1-a50e-495699ca7728"
   },
   "outputs": [],
   "source": [
    "from statsmodels.tsa.arima.model import ARIMA\n",
    "# Instantiate model object\n",
    "model = ARIMA(amazon, order=(1,1,1))\n",
    "# Fit model\n",
    "results = model.fit()\n",
    "results.summary()"
   ]
  },
  {
   "cell_type": "markdown",
   "id": "biy0b1WJmlos",
   "metadata": {
    "id": "biy0b1WJmlos"
   },
   "source": [
    "## 3.1. Introduction to ACF and PACF"
   ]
  },
  {
   "cell_type": "code",
   "execution_count": null,
   "id": "837a6ee7-9004-4b3d-a2ed-f9a47baa6400",
   "metadata": {},
   "outputs": [],
   "source": []
  },
  {
   "cell_type": "code",
   "execution_count": null,
   "id": "08c9fc37-4646-4a80-8f23-e6cc44f99cd5",
   "metadata": {},
   "outputs": [],
   "source": []
  },
  {
   "cell_type": "code",
   "execution_count": null,
   "id": "25397683-0daf-499f-b1d3-ef7464b3f413",
   "metadata": {},
   "outputs": [],
   "source": []
  },
  {
   "cell_type": "code",
   "execution_count": null,
   "id": "_QEvhIylmlot",
   "metadata": {
    "id": "_QEvhIylmlot",
    "outputId": "27e0aaf4-0074-4d3a-f56b-128c0d62dd4e"
   },
   "outputs": [],
   "source": []
  },
  {
   "cell_type": "code",
   "execution_count": null,
   "id": "fzdO4lrWmlov",
   "metadata": {
    "id": "fzdO4lrWmlov",
    "outputId": "5de779cc-46d8-465f-f5f7-660ad26524f0"
   },
   "outputs": [],
   "source": []
  },
  {
   "cell_type": "markdown",
   "id": "-6VPn786mlox",
   "metadata": {
    "id": "-6VPn786mlox"
   },
   "source": [
    "## 3.2. Intro to AIC and BIC"
   ]
  },
  {
   "cell_type": "code",
   "execution_count": null,
   "id": "YRN0C3sEmlox",
   "metadata": {
    "id": "YRN0C3sEmlox",
    "outputId": "b13ca7b6-a535-477a-e5d7-5938d30ce1b4"
   },
   "outputs": [],
   "source": []
  },
  {
   "cell_type": "code",
   "execution_count": null,
   "id": "176a50af-5ccb-44d5-9d49-1680335ec7cd",
   "metadata": {},
   "outputs": [],
   "source": []
  },
  {
   "cell_type": "markdown",
   "id": "483f09fe-73ba-47de-b37e-8e5fdbe4c886",
   "metadata": {},
   "source": [
    "Let's sort them by AIC and BIC"
   ]
  },
  {
   "cell_type": "markdown",
   "id": "f662b513-43c1-4c25-96fd-f46f2a8aa62b",
   "metadata": {},
   "source": [
    "Models sorted by AIC"
   ]
  },
  {
   "cell_type": "code",
   "execution_count": null,
   "id": "eca59f4b-2d3d-4bb8-ac33-0f15aa7c9243",
   "metadata": {},
   "outputs": [],
   "source": []
  },
  {
   "cell_type": "markdown",
   "id": "1a2c20e5-1b2c-418e-84c7-7c0a4f2b970d",
   "metadata": {},
   "source": [
    "Models sorted by BIC"
   ]
  },
  {
   "cell_type": "code",
   "execution_count": null,
   "id": "247dc491-c198-4ba0-8996-fe94fa87d5d7",
   "metadata": {},
   "outputs": [],
   "source": [
    "order_df.sort_values('bic').reset_index(drop=True)"
   ]
  },
  {
   "cell_type": "markdown",
   "id": "eEgqBFv1mloz",
   "metadata": {
    "id": "eEgqBFv1mloz"
   },
   "source": [
    "## 3.3. The model diagnostic"
   ]
  },
  {
   "cell_type": "code",
   "execution_count": null,
   "id": "rXIewMh4mlo0",
   "metadata": {
    "id": "rXIewMh4mlo0",
    "outputId": "073a2d89-b6c7-4ce2-ed8e-9688e76a251c"
   },
   "outputs": [],
   "source": [
    "# The model with the best p and q found from previous step\n",
    "model = sm.tsa.statespace.SARIMAX(earthquake['earthquakes_per_year'], order=(1, 0, 1))\n",
    "# Fit model\n",
    "results = model.fit()\n",
    "# Assign residuals to variable\n",
    "residuals = results.resid"
   ]
  },
  {
   "cell_type": "code",
   "execution_count": null,
   "id": "88e0acb3-f625-4b15-a3c7-c9c637c9c790",
   "metadata": {},
   "outputs": [],
   "source": [
    "residuals"
   ]
  },
  {
   "cell_type": "code",
   "execution_count": null,
   "id": "lyzrF_JDmlo1",
   "metadata": {
    "id": "lyzrF_JDmlo1",
    "outputId": "8596d880-1e5c-4a9e-d9fb-29da1d3cf3cc"
   },
   "outputs": [],
   "source": [
    "# The mean absolute error\n",
    "mae = np.mean(np.abs(residuals))\n",
    "print(\"MAE: {}\".format(round(mae, 4)))"
   ]
  },
  {
   "cell_type": "code",
   "execution_count": null,
   "id": "PElpW5u4mlo2",
   "metadata": {
    "id": "PElpW5u4mlo2",
    "outputId": "f3049d2f-610e-4715-fbfb-5c145936cb0c"
   },
   "outputs": [],
   "source": [
    "# Create the 4 diagostics plots\n",
    "results.plot_diagnostics(figsize=(10,10))\n",
    "plt.show()"
   ]
  },
  {
   "cell_type": "code",
   "execution_count": null,
   "id": "wtm8Dcsdmlo4",
   "metadata": {
    "id": "wtm8Dcsdmlo4",
    "outputId": "d830224e-5271-4b50-c4db-10e065bd067e",
    "scrolled": true
   },
   "outputs": [],
   "source": [
    "# Summary statistics\n",
    "results.summary()"
   ]
  },
  {
   "cell_type": "markdown",
   "id": "SzgutmnSmlo6",
   "metadata": {
    "id": "SzgutmnSmlo6"
   },
   "source": [
    "## Identification "
   ]
  },
  {
   "cell_type": "code",
   "execution_count": null,
   "id": "7_n5erqMmlo6",
   "metadata": {
    "id": "7_n5erqMmlo6",
    "outputId": "d806cfe8-8a7b-4e2e-e076-3012c27e4aaf"
   },
   "outputs": [],
   "source": []
  },
  {
   "cell_type": "code",
   "execution_count": null,
   "id": "hb6u5gKdmlo9",
   "metadata": {
    "id": "hb6u5gKdmlo9",
    "outputId": "6401d774-0a8b-4e82-edae-aeec45ac0973"
   },
   "outputs": [],
   "source": []
  },
  {
   "cell_type": "code",
   "execution_count": null,
   "id": "V102nH9gmlo-",
   "metadata": {
    "id": "V102nH9gmlo-",
    "outputId": "27d6b863-9275-49de-aad9-107382940051",
    "scrolled": true
   },
   "outputs": [],
   "source": []
  },
  {
   "cell_type": "code",
   "execution_count": null,
   "id": "Rne0nOgwmlq7",
   "metadata": {
    "id": "Rne0nOgwmlq7",
    "outputId": "5dbe9a28-1d37-42fc-d0a7-ab4e31a3e63c",
    "scrolled": true
   },
   "outputs": [],
   "source": []
  },
  {
   "cell_type": "markdown",
   "id": "JIaG504_mlrE",
   "metadata": {
    "id": "JIaG504_mlrE"
   },
   "source": [
    "## 2.1 Example of CO2 data (seasonal ARIMA models)"
   ]
  },
  {
   "cell_type": "markdown",
   "id": "ZDeBpnehmlrF",
   "metadata": {
    "id": "ZDeBpnehmlrF"
   },
   "source": [
    "## 4.1. Seasonal time series"
   ]
  },
  {
   "cell_type": "code",
   "execution_count": null,
   "id": "af32307e-41ac-44e8-b11b-780fcdb2d655",
   "metadata": {},
   "outputs": [],
   "source": [
    "# Load in the time series\n",
    "candy = pd.read_csv('{}/candy_production.csv'.format(DATA_DIRECTORY), index_col='date', parse_dates=True)"
   ]
  },
  {
   "cell_type": "code",
   "execution_count": null,
   "id": "a624dd34-7421-4a66-82f6-49b8b8632851",
   "metadata": {},
   "outputs": [],
   "source": [
    "# Plot and show the time series on axis ax1\n",
    "fig, ax1 = plt.subplots()\n",
    "candy.plot(ax=ax1, figsize=(12,10))\n",
    "plt.title('Monthly production of candy in US')\n",
    "plt.xlabel('Date')\n",
    "plt.ylabel('Production')\n",
    "plt.show()"
   ]
  },
  {
   "cell_type": "code",
   "execution_count": null,
   "id": "fd15f096-58cd-4470-ab40-a3411d91b220",
   "metadata": {},
   "outputs": [],
   "source": [
    "# Run the test and print: we should see p-value>0.05 -> the time series is not stationary\n",
    "from statsmodels.tsa.stattools import adfuller\n",
    "results = adfuller(candy)\n",
    "# Print test statistic\n",
    "print('The test stastics:', round(results[0], 4))\n",
    "# Print p-value\n",
    "print(\"The p-value:\", round(results[1], 4))"
   ]
  },
  {
   "cell_type": "code",
   "execution_count": null,
   "id": "ed741913-e5cf-4c4b-b876-7abc820efd77",
   "metadata": {},
   "outputs": [],
   "source": [
    "# Calculate the first difference and drop the nans\n",
    "candy_diff = candy.diff()\n",
    "candy_diff = candy_diff.dropna()"
   ]
  },
  {
   "cell_type": "code",
   "execution_count": null,
   "id": "d153a684-ee3a-4490-bb8a-6e5e9cf8f0a5",
   "metadata": {},
   "outputs": [],
   "source": [
    "from statsmodels.tsa.stattools import adfuller\n",
    "# Run the test and print: we should see p-value<0.05 -> the time series is stationary\n",
    "result_diff = adfuller(candy_diff)"
   ]
  },
  {
   "cell_type": "code",
   "execution_count": null,
   "id": "6afb5341-603d-4397-89dd-9f9992707f6a",
   "metadata": {},
   "outputs": [],
   "source": [
    "# Print test statistic\n",
    "print('The test stastics:', round(result_diff[0], 4))"
   ]
  },
  {
   "cell_type": "code",
   "execution_count": null,
   "id": "ab57a1bc-aceb-46ad-a194-f3850066d980",
   "metadata": {},
   "outputs": [],
   "source": [
    "# Print p-value\n",
    "print(\"The p-value:\", round(result_diff[1], 4))"
   ]
  },
  {
   "cell_type": "code",
   "execution_count": null,
   "id": "EIBLIJq1mlrG",
   "metadata": {
    "id": "EIBLIJq1mlrG",
    "outputId": "06ca213e-7865-4922-f8e2-ff854f1f9c52"
   },
   "outputs": [],
   "source": [
    "from statsmodels.tsa.seasonal import seasonal_decompose\n",
    "# Decompose data\n",
    "decomp_results = seasonal_decompose(candy, period=12)"
   ]
  },
  {
   "cell_type": "code",
   "execution_count": null,
   "id": "b54f3a1d-11f7-47e0-9e83-88939247240a",
   "metadata": {},
   "outputs": [],
   "source": [
    "# Plot decomposed data\n",
    "plt.rcParams[\"figure.figsize\"] = (10,15)\n",
    "decomp_results.plot()\n",
    "plt.show()"
   ]
  },
  {
   "cell_type": "code",
   "execution_count": null,
   "id": "2soyxyOHmlrI",
   "metadata": {
    "id": "2soyxyOHmlrI",
    "outputId": "b38aa90d-9472-4f16-de1b-df4da3292a0c",
    "scrolled": true
   },
   "outputs": [],
   "source": [
    "# Subtract long rolling average over 5 steps\n",
    "candy_m5 = candy - candy.rolling(5).mean()\n",
    "# Drop NaN values\n",
    "candy_m5 = candy_m5.dropna()"
   ]
  },
  {
   "cell_type": "code",
   "execution_count": null,
   "id": "871a4162-152d-49bd-97c8-75a0b213c03d",
   "metadata": {},
   "outputs": [],
   "source": [
    "from statsmodels.graphics.tsaplots import plot_acf, plot_pacf\n",
    "# Identifying seasonal data using ACF\n",
    "fig, ax = plt.subplots(1,1, figsize=(8,4))\n",
    "plot_acf(candy_m5.dropna(), ax=ax, lags=25, zero=False)\n",
    "plt.show()"
   ]
  },
  {
   "cell_type": "markdown",
   "id": "S6PrdRCLmlrJ",
   "metadata": {
    "id": "S6PrdRCLmlrJ"
   },
   "source": [
    "## 4.2. Seasonal ARIMA model"
   ]
  },
  {
   "cell_type": "code",
   "execution_count": null,
   "id": "x6nu7LHSmlrK",
   "metadata": {
    "id": "x6nu7LHSmlrK",
    "outputId": "e5fd9834-4241-4a94-ef13-438095ccb2f8"
   },
   "outputs": [],
   "source": [
    "# load the candy production data\n",
    "candy = pd.read_csv('{}/candy_production.csv'.format(DATA_DIRECTORY), index_col='date', parse_dates=True)\n",
    "\n",
    "# Plot and show the time series on axis ax1\n",
    "fig, ax1 = plt.subplots()\n",
    "candy.plot(ax=ax1, figsize=(12,10))\n",
    "plt.title('Monthly production of candy in US')\n",
    "plt.xlabel('Date')\n",
    "plt.ylabel('Production')\n",
    "plt.show()"
   ]
  },
  {
   "cell_type": "code",
   "execution_count": null,
   "id": "vvpHRVcMmlrM",
   "metadata": {
    "id": "vvpHRVcMmlrM",
    "outputId": "435e69f8-2007-484b-bb3d-a4db6da7c1ec"
   },
   "outputs": [],
   "source": [
    "# Seasonal differencing\n",
    "S = 12\n",
    "candy_diff_12 = candy.diff(S).fillna(0)\n",
    "candy_diff_12.plot()"
   ]
  },
  {
   "cell_type": "code",
   "execution_count": null,
   "id": "c8694ad5-c71b-4b6d-a735-88d6951b5e61",
   "metadata": {},
   "outputs": [],
   "source": [
    "# Run the test and print: we should see p-value<0.05 -> the time series is stationary\n",
    "result_diff_12 = adfuller(candy_diff_12)"
   ]
  },
  {
   "cell_type": "code",
   "execution_count": null,
   "id": "b15b79f0-17f9-41b1-8e02-819beb0e25c6",
   "metadata": {},
   "outputs": [],
   "source": [
    "# Print test statistic\n",
    "print('The test stastics:', round(result_diff_12[0], 4))"
   ]
  },
  {
   "cell_type": "code",
   "execution_count": null,
   "id": "c854a277-907f-4411-baa8-5b719768c625",
   "metadata": {},
   "outputs": [],
   "source": [
    "# Print p-value\n",
    "print(\"The p-value:\", round(result_diff_12[1], 4))"
   ]
  },
  {
   "cell_type": "code",
   "execution_count": null,
   "id": "OSbiacbvmlrQ",
   "metadata": {
    "id": "OSbiacbvmlrQ",
    "outputId": "04d6550d-96a4-47fa-c19e-320da8baaf33"
   },
   "outputs": [],
   "source": [
    "# Find the non-seasonal model parameters \n",
    "from statsmodels.graphics.tsaplots import plot_acf, plot_pacf\n",
    "\n",
    "# Create figure\n",
    "fig, (ax1, ax2) = plt.subplots(2,1, figsize=(12,8))"
   ]
  },
  {
   "cell_type": "code",
   "execution_count": null,
   "id": "c18c54d4-7884-4b6a-b69e-0c14e9af4c85",
   "metadata": {},
   "outputs": [],
   "source": [
    "# Plot the ACF of savings on ax1\n",
    "plot_acf(candy_diff, lags=20, zero=False, ax=ax1)"
   ]
  },
  {
   "cell_type": "code",
   "execution_count": null,
   "id": "1ea9b7ba-3b6e-4b5f-9a78-d3257f45918d",
   "metadata": {},
   "outputs": [],
   "source": [
    "# Plot the PACF of savings on ax2\n",
    "plot_pacf(candy_diff, lags=20, zero=False, ax=ax2)"
   ]
  },
  {
   "cell_type": "code",
   "execution_count": null,
   "id": "c7180db2-c019-4b27-a007-507938a318cf",
   "metadata": {},
   "outputs": [],
   "source": [
    "plt.show()"
   ]
  },
  {
   "cell_type": "markdown",
   "id": "g4dZAnfYmlrR",
   "metadata": {
    "id": "g4dZAnfYmlrR"
   },
   "source": [
    "We cannot estimate the values of the non-seasonal from the PACF and ACF plot, so we will use AIC and BIC"
   ]
  },
  {
   "cell_type": "code",
   "execution_count": null,
   "id": "ro217-XHmlrU",
   "metadata": {
    "id": "ro217-XHmlrU",
    "outputId": "defa9cef-93fc-4588-faef-07f44cea0c06"
   },
   "outputs": [],
   "source": [
    "import statsmodels.api as sm\n",
    "order_aic_bic =[]\n",
    "\n",
    "# Loop over p values from 0-4\n",
    "for p in range(5):\n",
    "    # Loop over q values from 0-4\n",
    "    for q in range(5):\n",
    "        try:\n",
    "            # Create and fit ARMA(p,q) model. We already performed differencing once.\n",
    "            model = sm.tsa.statespace.SARIMAX(candy_diff, order=(p, 1, q))\n",
    "            results = model.fit()\n",
    "            # Print order and results\n",
    "            order_aic_bic.append((p, q, results.aic, results.bic))\n",
    "            print(\"======================================================\")\n",
    "        except:\n",
    "            print(p, q, None, None)"
   ]
  },
  {
   "cell_type": "code",
   "execution_count": null,
   "id": "875bceb8-6d39-47df-9d6a-bfb01f3094f8",
   "metadata": {},
   "outputs": [],
   "source": [
    "order_df = pd.DataFrame(order_aic_bic, columns=['p', 'q', 'aic','bic'])"
   ]
  },
  {
   "cell_type": "markdown",
   "id": "8c2a5633-fafc-416b-a3f6-1f56c40f9f6c",
   "metadata": {},
   "source": [
    "Models sorted by AIC"
   ]
  },
  {
   "cell_type": "code",
   "execution_count": null,
   "id": "dac0253a-49ff-485e-9a66-bd1a2974e4f0",
   "metadata": {},
   "outputs": [],
   "source": [
    "order_df.sort_values('aic').reset_index(drop=True)"
   ]
  },
  {
   "cell_type": "markdown",
   "id": "e06fec61-e853-45e4-b07e-cb873e653d85",
   "metadata": {},
   "source": [
    "Models sorted by BIC"
   ]
  },
  {
   "cell_type": "code",
   "execution_count": null,
   "id": "b9f5baea-48d5-4083-9c51-b67896de7d0a",
   "metadata": {},
   "outputs": [],
   "source": [
    "order_df.sort_values('bic').reset_index(drop=True)"
   ]
  },
  {
   "cell_type": "markdown",
   "id": "aEK_xU9xmlrW",
   "metadata": {
    "id": "aEK_xU9xmlrW"
   },
   "source": [
    "The best prameters to be used is (4,3)"
   ]
  },
  {
   "cell_type": "code",
   "execution_count": null,
   "id": "CKchiaQ8mlrX",
   "metadata": {
    "id": "CKchiaQ8mlrX",
    "outputId": "db8d8edd-4542-448b-b4ea-67bd0ae44a53"
   },
   "outputs": [],
   "source": [
    "# Plotting seasonal ACF and PACF\n",
    "# Create figure\n",
    "fig, (ax1, ax2) = plt.subplots(2,1)"
   ]
  },
  {
   "cell_type": "code",
   "execution_count": null,
   "id": "dcd91361-269b-4eea-9faf-b03f7a958e35",
   "metadata": {},
   "outputs": [],
   "source": [
    "# Plot seasonal ACF\n",
    "plot_acf(candy_diff, lags=[12, 24, 36, 48, 60, 72, 84, 96 ], ax=ax1)"
   ]
  },
  {
   "cell_type": "code",
   "execution_count": null,
   "id": "8e994fd0-17c7-44ec-83f4-01e873bf8e3e",
   "metadata": {},
   "outputs": [],
   "source": [
    "# Plot seasonal PACF\n",
    "plot_pacf(candy_diff, lags=[12, 24, 36, 48, 60, 72, 84, 96], ax=ax2)\n",
    "plt.show()"
   ]
  },
  {
   "cell_type": "markdown",
   "id": "Rs6JPNGkmlrZ",
   "metadata": {
    "id": "Rs6JPNGkmlrZ"
   },
   "source": [
    "ACF tails offf and PACF cuts off after lag of 3"
   ]
  },
  {
   "cell_type": "code",
   "execution_count": null,
   "id": "oagHP1Hdmlrb",
   "metadata": {
    "id": "oagHP1Hdmlrb",
    "outputId": "ccd30e4a-09be-446a-9aa9-b557465243af"
   },
   "outputs": [],
   "source": [
    "# Fitting a SARIMA model\n",
    "from statsmodels.tsa.statespace.sarimax import SARIMAX\n",
    "\n",
    "# Model parameters\n",
    "S = 12\n",
    "D = 1\n",
    "d = 1\n",
    "P = 0\n",
    "Q = 3\n",
    "p = 4\n",
    "q = 3"
   ]
  },
  {
   "cell_type": "code",
   "execution_count": null,
   "id": "8fe963c4-00fa-40af-9c11-4a07022ec89c",
   "metadata": {},
   "outputs": [],
   "source": [
    "# Instantiate model\n",
    "model = SARIMAX(candy, order=(p,d,q), seasonal_order=(P,D,Q,S))\n",
    "\n",
    "# Fit model\n",
    "results = model.fit()"
   ]
  },
  {
   "cell_type": "markdown",
   "id": "YEUFCJEBmlrd",
   "metadata": {
    "id": "YEUFCJEBmlrd"
   },
   "source": [
    "## 4.3. Automating all the work performed above :)"
   ]
  },
  {
   "cell_type": "code",
   "execution_count": null,
   "id": "1ea6b95c-ab0b-41d8-a29d-7c39190009f7",
   "metadata": {},
   "outputs": [],
   "source": [
    "# Search over model orders\n",
    "import pmdarima as pm\n",
    "\n",
    "results = pm.auto_arima(candy)\n",
    "results"
   ]
  },
  {
   "cell_type": "code",
   "execution_count": null,
   "id": "6a6090ea-8859-49db-bb09-81e0b64f29b8",
   "metadata": {},
   "outputs": [],
   "source": [
    "results.summary()"
   ]
  },
  {
   "cell_type": "code",
   "execution_count": null,
   "id": "fy2dOfrgmlre",
   "metadata": {
    "id": "fy2dOfrgmlre",
    "outputId": "eec1e17f-bd08-4f1c-e0ee-9455460644c6"
   },
   "outputs": [],
   "source": [
    "results.plot_diagnostics()"
   ]
  },
  {
   "cell_type": "code",
   "execution_count": null,
   "id": "lMK5ZDT-mlrg",
   "metadata": {
    "id": "lMK5ZDT-mlrg",
    "outputId": "5908e8cd-b07f-4d49-bc81-f0cedd943c21"
   },
   "outputs": [],
   "source": [
    "# Seasonal search parameters\n",
    "\n",
    "results = pm.auto_arima(candy, # data\n",
    "                        seasonal=True, # is the time series seasonal\n",
    "                        m=12, # the seasonal period\n",
    "                        D=1, # seasonal difference order\n",
    "                        start_P=1, # initial guess for P\n",
    "                        start_Q=1, # initial guess for Q\n",
    "                        max_P=4, # max value of P to test\n",
    "                        max_Q=4, # max value of Q to test\n",
    "                        information_criterion='aic', # used to select the best model\n",
    "                        trace=True, # print results while training\n",
    "                        error_action='ignore', # ignore orders that don't work\n",
    "                        stepwise=True,\n",
    "                       )"
   ]
  },
  {
   "cell_type": "code",
   "execution_count": null,
   "id": "551c305b-ef10-4671-aed6-5b56de40c4ac",
   "metadata": {},
   "outputs": [],
   "source": [
    "results"
   ]
  },
  {
   "cell_type": "code",
   "execution_count": null,
   "id": "43a543aa-41ab-4e5d-aa5c-b65e75c8bcd6",
   "metadata": {},
   "outputs": [],
   "source": [
    "results.summary()"
   ]
  },
  {
   "cell_type": "code",
   "execution_count": null,
   "id": "1a1411f6-d083-460d-ad0c-4a22cd16190f",
   "metadata": {},
   "outputs": [],
   "source": [
    "results.plot_diagnostics()"
   ]
  },
  {
   "cell_type": "markdown",
   "id": "38e9342d-cbf3-4f91-afbf-6508de0590c7",
   "metadata": {},
   "source": [
    "## 4.4. Save and load the model"
   ]
  },
  {
   "cell_type": "code",
   "execution_count": null,
   "id": "E7f6CXVHmlrh",
   "metadata": {
    "id": "E7f6CXVHmlrh",
    "outputId": "2f597465-a09d-4204-dd6b-17fc0056151f"
   },
   "outputs": [],
   "source": [
    "import joblib\n",
    "filepath = 'model.pkl' # This is the name under which we save the model\n",
    "# Save model to file path\n",
    "joblib.dump(results, filepath)"
   ]
  },
  {
   "cell_type": "code",
   "execution_count": null,
   "id": "k0wsXBuzmlrl",
   "metadata": {
    "id": "k0wsXBuzmlrl"
   },
   "outputs": [],
   "source": [
    "# Load the model from a given filepath\n",
    "filepath ='model.pkl'\n",
    "loaded_model = joblib.load(filepath)"
   ]
  }
 ],
 "metadata": {
  "colab": {
   "include_colab_link": true,
   "provenance": []
  },
  "kernelspec": {
   "display_name": "Python 3 (ipykernel)",
   "language": "python",
   "name": "python3"
  },
  "language_info": {
   "codemirror_mode": {
    "name": "ipython",
    "version": 3
   },
   "file_extension": ".py",
   "mimetype": "text/x-python",
   "name": "python",
   "nbconvert_exporter": "python",
   "pygments_lexer": "ipython3",
   "version": "3.9.1"
  }
 },
 "nbformat": 4,
 "nbformat_minor": 5
}
