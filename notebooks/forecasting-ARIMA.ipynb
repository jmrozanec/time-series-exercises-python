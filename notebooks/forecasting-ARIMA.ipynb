{
 "cells": [
  {
   "cell_type": "markdown",
   "id": "644eed19",
   "metadata": {
    "colab_type": "text",
    "id": "view-in-github"
   },
   "source": [
    "<a href=\"https://colab.research.google.com/github/youssefHosni/Time-Series-With-Python/blob/main/Arima%20Models%20in%20Python/ARIMA_Models_In%C2%A0Python.ipynb\" target=\"_parent\"><img src=\"https://colab.research.google.com/assets/colab-badge.svg\" alt=\"Open In Colab\"/></a>"
   ]
  },
  {
   "cell_type": "code",
   "execution_count": null,
   "id": "a4c6be09-84c8-4ca0-89d0-5a5d4b1b0f21",
   "metadata": {},
   "outputs": [],
   "source": [
    "import warnings\n",
    "warnings.filterwarnings('ignore')"
   ]
  },
  {
   "cell_type": "code",
   "execution_count": null,
   "id": "zscpbuGsmlnb",
   "metadata": {
    "id": "zscpbuGsmlnb"
   },
   "outputs": [],
   "source": [
    "# import the important libraries\n",
    "import pandas as pd\n",
    "import matplotlib.pyplot as plt\n",
    "import numpy as np"
   ]
  },
  {
   "cell_type": "code",
   "execution_count": null,
   "id": "a1adef16-396e-4bbf-a810-0cfc42660d4c",
   "metadata": {},
   "outputs": [],
   "source": [
    "DATA_DIRECTORY='../data/forecasting'"
   ]
  },
  {
   "cell_type": "markdown",
   "id": "U2tkmqr4mlnm",
   "metadata": {
    "id": "U2tkmqr4mlnm"
   },
   "source": [
    "# 1. ARMA Models"
   ]
  },
  {
   "cell_type": "markdown",
   "id": "2KF-Vgxcmlnq",
   "metadata": {
    "id": "2KF-Vgxcmlnq"
   },
   "source": [
    "## 1.1. Introduction to stationarity"
   ]
  },
  {
   "cell_type": "code",
   "execution_count": null,
   "id": "jilTFwNdmlns",
   "metadata": {
    "id": "jilTFwNdmlns",
    "outputId": "d5b7a196-9930-4841-9af3-05a70dfad1e0",
    "scrolled": true
   },
   "outputs": [],
   "source": [
    "# Load in the time series\n",
    "candy = pd.read_csv('{}/candy_production.csv'.format(DATA_DIRECTORY), index_col='date', parse_dates=True)\n",
    "# change the plot style into fivethirtyeight \n",
    "plt.style.use('fivethirtyeight')\n",
    "\n",
    "# Plot and show the time series on axis ax1\n",
    "fig, ax1 = plt.subplots()\n",
    "candy.plot(ax=ax1, figsize=(12,10))\n",
    "plt.title('Monthly production of candy in US')\n",
    "plt.xlabel('Date')\n",
    "plt.ylabel('Production')\n",
    "plt.show()\n"
   ]
  },
  {
   "cell_type": "code",
   "execution_count": null,
   "id": "qAi-_hgwmlnv",
   "metadata": {
    "id": "qAi-_hgwmlnv",
    "outputId": "e343960d-3c40-42fe-c0ff-f61504623f84"
   },
   "outputs": [],
   "source": [
    "# Split the data into a train and test set\n",
    "candy_train = candy.loc[:'2006']\n",
    "candy_test = candy.loc['2007':]\n",
    "\n",
    "# Create an axis\n",
    "fig, ax = plt.subplots()\n",
    "\n",
    "# Plot the train and test sets on the axis ax\n",
    "candy_train.plot(ax=ax, figsize=(12,10))\n",
    "candy_test.plot(ax=ax)\n",
    "plt.title('train - test split of the monthly production of candy in US')\n",
    "plt.xlabel('Date')\n",
    "plt.ylabel('Production')\n",
    "plt.show()"
   ]
  },
  {
   "cell_type": "markdown",
   "id": "6jDcxyc7mlnx",
   "metadata": {
    "id": "6jDcxyc7mlnx"
   },
   "source": [
    "## 1.2. Making a time series stationary"
   ]
  },
  {
   "cell_type": "code",
   "execution_count": null,
   "id": "WwrlnzeXmlnz",
   "metadata": {
    "id": "WwrlnzeXmlnz",
    "outputId": "9bff57e1-0920-4470-d360-99694230c1aa",
    "scrolled": true
   },
   "outputs": [],
   "source": [
    "from statsmodels.tsa.stattools import adfuller\n",
    "results = adfuller(candy)\n",
    "print(results)"
   ]
  },
  {
   "cell_type": "code",
   "execution_count": null,
   "id": "8seOVaeemln0",
   "metadata": {
    "id": "8seOVaeemln0",
    "outputId": "0105726b-e4c3-4c86-c5ca-205dded2b403"
   },
   "outputs": [],
   "source": [
    "# Calculate the first difference and drop the nans\n",
    "candy_diff = candy.diff()\n",
    "candy_diff = candy_diff.dropna()\n",
    "\n",
    "# Run test and print\n",
    "result_diff = adfuller(candy_diff)\n",
    "print(result_diff)\n"
   ]
  },
  {
   "cell_type": "code",
   "execution_count": null,
   "id": "D5fSE8Z9mln2",
   "metadata": {
    "id": "D5fSE8Z9mln2"
   },
   "outputs": [],
   "source": [
    "earthquake = pd.read_csv('{}/earthquakes.csv'.format(DATA_DIRECTORY), index_col='date', parse_dates=True)"
   ]
  },
  {
   "cell_type": "code",
   "execution_count": null,
   "id": "PVodJdNmmln3",
   "metadata": {
    "id": "PVodJdNmmln3",
    "outputId": "809192cf-67ba-4f4a-89c6-9f63352b96de"
   },
   "outputs": [],
   "source": [
    "# Calculate log-return and drop nans\n",
    "earthquake_log = np.log(earthquake)\n",
    "earthquake_log = earthquake_log.dropna()\n",
    "\n",
    "# Run test and print\n",
    "result_log = adfuller(earthquake_log['earthquakes_per_year'])\n",
    "result_log"
   ]
  },
  {
   "cell_type": "markdown",
   "id": "tU_MiKN6mln9",
   "metadata": {
    "id": "tU_MiKN6mln9"
   },
   "source": [
    "## 1.3. Introduction to AR, MA adn ARMA models"
   ]
  },
  {
   "cell_type": "code",
   "execution_count": null,
   "id": "noJrc7s3mln_",
   "metadata": {
    "id": "noJrc7s3mln_"
   },
   "outputs": [],
   "source": [
    "from statsmodels.tsa.arima_process import arma_generate_sample\n",
    "ar_coefs = [1, -0.5] \n",
    "ma_coefs = [1, 0.2]\n",
    "y = arma_generate_sample(ar_coefs, ma_coefs, nsample=100, scale=0.5)"
   ]
  },
  {
   "cell_type": "code",
   "execution_count": null,
   "id": "CWSMRspjmloC",
   "metadata": {
    "id": "CWSMRspjmloC",
    "outputId": "6387e29f-9002-4bfa-bcd4-29708c5d9f9c"
   },
   "outputs": [],
   "source": [
    "from statsmodels.tsa.arima.model import ARIMA\n",
    "# Instantiate model object\n",
    "model = ARIMA(y, order=(1,0,1))\n",
    "# Fit model\n",
    "results = model.fit()\n"
   ]
  },
  {
   "cell_type": "markdown",
   "id": "xfPLna92mloG",
   "metadata": {
    "id": "xfPLna92mloG"
   },
   "source": [
    "# 2. Fitting the Future"
   ]
  },
  {
   "cell_type": "markdown",
   "id": "m5M2PbMvmloI",
   "metadata": {
    "id": "m5M2PbMvmloI"
   },
   "source": [
    "## 2.1. Fitting time series models\n"
   ]
  },
  {
   "cell_type": "code",
   "execution_count": null,
   "id": "rQCldotumloJ",
   "metadata": {
    "id": "rQCldotumloJ",
    "outputId": "cfeef56f-f704-4fe4-d165-aedd78e99616",
    "scrolled": true
   },
   "outputs": [],
   "source": [
    "from statsmodels.tsa.arima.model import ARIMA\n",
    "# Instantiate model object\n",
    "model = ARIMA(y, order=(1,0,1))\n",
    "# Fit model\n",
    "results = model.fit()\n",
    "results.summary()"
   ]
  },
  {
   "cell_type": "markdown",
   "id": "KIGGsTRSmloL",
   "metadata": {
    "id": "KIGGsTRSmloL"
   },
   "source": [
    "## 2.2. Forecasting "
   ]
  },
  {
   "cell_type": "code",
   "execution_count": null,
   "id": "ozEuvzrZmloM",
   "metadata": {
    "id": "ozEuvzrZmloM",
    "outputId": "ebb7907c-1f3f-4932-e657-68457c315024"
   },
   "outputs": [],
   "source": [
    "amazon = pd.read_csv('{}/amazon_close.csv'.format(DATA_DIRECTORY), index_col='date', parse_dates=True)\n",
    "amazon.plot()"
   ]
  },
  {
   "cell_type": "code",
   "execution_count": null,
   "id": "Kk-HYugLmloP",
   "metadata": {
    "id": "Kk-HYugLmloP",
    "outputId": "967868e0-8fa4-45d8-b63a-08016f71be89"
   },
   "outputs": [],
   "source": [
    "results = adfuller(amazon)\n",
    "print(results)"
   ]
  },
  {
   "cell_type": "code",
   "execution_count": null,
   "id": "1ZAghWcYmloQ",
   "metadata": {
    "id": "1ZAghWcYmloQ",
    "outputId": "26b2d0bd-8da2-4781-9cb0-0caa004b4a86",
    "scrolled": true
   },
   "outputs": [],
   "source": [
    "# Instantiate the model\n",
    "model = ARIMA(amazon, order=(1,1,1))\n",
    "\n",
    "# Fit the model\n",
    "results = model.fit()\n",
    "\n",
    "# Print model fit summary\n",
    "results.summary()"
   ]
  },
  {
   "cell_type": "code",
   "execution_count": null,
   "id": "2g0o69lnmloU",
   "metadata": {
    "id": "2g0o69lnmloU",
    "outputId": "a553db3e-0761-4014-d40a-559447e071c7"
   },
   "outputs": [],
   "source": [
    "# Generate predictions\n",
    "one_step_forecast = results.get_prediction(end=20)\n",
    "\n",
    "# Extract prediction mean\n",
    "mean_forecast = one_step_forecast.predicted_mean\n",
    "\n",
    "# Get confidence intervals of  predictions\n",
    "confidence_intervals = one_step_forecast.conf_int()\n",
    "\n",
    "# Select lower and upper confidence limits\n",
    "lower_limits = confidence_intervals.loc[:,'lower close']\n",
    "upper_limits = confidence_intervals.loc[:,'upper close']\n",
    "\n",
    "# Print best estimate  predictions\n",
    "mean_forecast.head(5)"
   ]
  },
  {
   "cell_type": "code",
   "execution_count": null,
   "id": "iGL3q_vdmloW",
   "metadata": {
    "id": "iGL3q_vdmloW"
   },
   "outputs": [],
   "source": [
    "mean_forecast = mean_forecast[1:]"
   ]
  },
  {
   "cell_type": "code",
   "execution_count": null,
   "id": "5Bi0PtSimloX",
   "metadata": {
    "id": "5Bi0PtSimloX",
    "outputId": "320d5e13-ec24-403e-a132-a1797b8b467e"
   },
   "outputs": [],
   "source": [
    "mean_forecast.head(5)"
   ]
  },
  {
   "cell_type": "code",
   "execution_count": null,
   "id": "-wDXEmOLmloZ",
   "metadata": {
    "id": "-wDXEmOLmloZ",
    "outputId": "b110f760-13a8-4591-ada3-7664798486a5"
   },
   "outputs": [],
   "source": [
    "# plot the amazon data\n",
    "plt.plot(amazon.index, amazon, label='observed')\n",
    "\n",
    "# plot your mean predictions\n",
    "plt.plot(mean_forecast.index,mean_forecast,color='r', label='forecast')\n",
    "\n",
    "# shade the area between your confidence limits\n",
    "plt.fill_between(lower_limits.index, lower_limits, upper_limits, color='pink')\n",
    "\n",
    "# set labels, legends and show plot\n",
    "plt.xlabel('Date')\n",
    "plt.ylabel('Amazon Stock Price - Close USD')\n",
    "plt.legend()\n",
    "plt.show()"
   ]
  },
  {
   "cell_type": "code",
   "execution_count": null,
   "id": "qh8MciYimloa",
   "metadata": {
    "id": "qh8MciYimloa",
    "outputId": "855c2829-1a72-4f80-f5d1-0e7402bf4640"
   },
   "outputs": [],
   "source": [
    "# Generate predictions\n",
    "dynamic_forecast = results.get_prediction(end= 20, dynamic=True)\n",
    "\n",
    "# Extract prediction mean\n",
    "mean_forecast = dynamic_forecast.predicted_mean\n",
    "\n",
    "# Get confidence intervals of predictions\n",
    "confidence_intervals = dynamic_forecast.conf_int()\n",
    "\n",
    "# Select lower and upper confidence limits\n",
    "lower_limits = confidence_intervals.loc[:,'lower close']\n",
    "upper_limits = confidence_intervals.loc[:,'upper close']\n",
    "\n",
    "# Print best estimate predictions\n",
    "mean_forecast.head(5)"
   ]
  },
  {
   "cell_type": "code",
   "execution_count": null,
   "id": "GA7hYkEqmlod",
   "metadata": {
    "id": "GA7hYkEqmlod",
    "outputId": "2f0230ac-d35b-4341-9882-15629bdea834"
   },
   "outputs": [],
   "source": [
    "# plot the amazon data\n",
    "plt.plot(amazon.index, amazon, label='observed')\n",
    "\n",
    "# plot your mean forecast\n",
    "plt.plot(mean_forecast.index, mean_forecast, color='r', label='forecast')\n",
    "\n",
    "# shade the area between your confidence limits\n",
    "plt.fill_between(lower_limits.index, lower_limits, \n",
    "         upper_limits, color='pink')\n",
    "\n",
    "# set labels, legends and show plot\n",
    "plt.xlabel('Date')\n",
    "plt.ylabel('Amazon Stock Price - Close USD')\n",
    "plt.legend()\n",
    "plt.show()"
   ]
  },
  {
   "cell_type": "markdown",
   "id": "c1qJJzGSmlof",
   "metadata": {
    "id": "c1qJJzGSmlof"
   },
   "source": [
    "## 2.3. ARIMA models for non-stationary time series"
   ]
  },
  {
   "cell_type": "code",
   "execution_count": null,
   "id": "xB4p1tATmlog",
   "metadata": {
    "id": "xB4p1tATmlog",
    "outputId": "2ea75410-5c59-49a4-a112-da4a0f62a2b0"
   },
   "outputs": [],
   "source": [
    "amazon = pd.read_csv('{}/amazon_close.csv'.format(DATA_DIRECTORY), index_col='date', parse_dates=True)\n",
    "amazon.plot()\n",
    "plt.title('Amazon stock price change with time')\n",
    "plt.ylabel('Stock price')"
   ]
  },
  {
   "cell_type": "code",
   "execution_count": null,
   "id": "zhXFyBegmloh",
   "metadata": {
    "id": "zhXFyBegmloh",
    "outputId": "2570b11d-8d98-4084-8901-0f8c62c2993e"
   },
   "outputs": [],
   "source": [
    "from statsmodels.tsa.stattools import adfuller\n",
    "\n",
    "# Run Dicky-Fuller test\n",
    "result = adfuller(amazon)\n",
    "\n",
    "# Print test statistic\n",
    "print('The test stastics:', round(result[0], 4))\n",
    "\n",
    "# Print p-value\n",
    "print(\"The p-value:\", round(result[1], 4))"
   ]
  },
  {
   "cell_type": "markdown",
   "id": "WKVfYgmcmloj",
   "metadata": {
    "id": "WKVfYgmcmloj"
   },
   "source": [
    "\n",
    "The data is not stationary and we have to take a tranform of it."
   ]
  },
  {
   "cell_type": "code",
   "execution_count": null,
   "id": "cuerIWa2mlol",
   "metadata": {
    "id": "cuerIWa2mlol",
    "outputId": "fafcd46f-0125-4202-9694-1c74442fbcfe"
   },
   "outputs": [],
   "source": [
    "# take the first diff\n",
    "amazon_diff = amazon.diff()\n",
    "amazon_diff.dropna(inplace=True)\n",
    "\n",
    "# Run Dicky-Fuller test\n",
    "result = adfuller(amazon_diff)\n",
    "\n",
    "# Print test statistic\n",
    "print('The test stastics:', round(result[0], 4))\n",
    "\n",
    "# Print p-value\n",
    "print(\"The p-value:\", round(result[1], 4))"
   ]
  },
  {
   "cell_type": "markdown",
   "id": "wL9Zyoqsmlom",
   "metadata": {
    "id": "wL9Zyoqsmlom"
   },
   "source": [
    "The p-value is less than 0.05, therefore the data is stationary"
   ]
  },
  {
   "cell_type": "code",
   "execution_count": null,
   "id": "rdAM6aQZmloo",
   "metadata": {
    "id": "rdAM6aQZmloo",
    "outputId": "53d3cec6-1966-4ad4-b994-fb01d38638a5"
   },
   "outputs": [],
   "source": [
    "from statsmodels.tsa.arima.model import ARIMA\n",
    "# Instantiate model object\n",
    "model = ARIMA(amazon_diff, order=(1,0,1))\n",
    "# Fit model\n",
    "results = model.fit()\n",
    "results.summary()"
   ]
  },
  {
   "cell_type": "code",
   "execution_count": null,
   "id": "JBoEb8Bzmlop",
   "metadata": {
    "id": "JBoEb8Bzmlop",
    "outputId": "ab71d7fa-acea-40e1-a50e-495699ca7728"
   },
   "outputs": [],
   "source": [
    "from statsmodels.tsa.arima.model import ARIMA\n",
    "# Instantiate model object\n",
    "model = ARIMA(amazon, order=(1,1,1))\n",
    "# Fit model\n",
    "results = model.fit()\n",
    "results.summary()"
   ]
  },
  {
   "cell_type": "markdown",
   "id": "dnl9zYmTmloq",
   "metadata": {
    "id": "dnl9zYmTmloq"
   },
   "source": [
    "# 3. Finding the Best Models"
   ]
  },
  {
   "cell_type": "markdown",
   "id": "biy0b1WJmlos",
   "metadata": {
    "id": "biy0b1WJmlos"
   },
   "source": [
    "## 3.1. Introduction to ACF and PACF"
   ]
  },
  {
   "cell_type": "code",
   "execution_count": null,
   "id": "_QEvhIylmlot",
   "metadata": {
    "id": "_QEvhIylmlot",
    "outputId": "27e0aaf4-0074-4d3a-f56b-128c0d62dd4e"
   },
   "outputs": [],
   "source": [
    "from statsmodels.graphics.tsaplots import plot_acf, plot_pacf\n",
    "# Make ACF plot\n",
    "plot_acf(earthquake['earthquakes_per_year'], lags=10, zero=False)\n",
    "plt.show()"
   ]
  },
  {
   "cell_type": "code",
   "execution_count": null,
   "id": "fzdO4lrWmlov",
   "metadata": {
    "id": "fzdO4lrWmlov",
    "outputId": "5de779cc-46d8-465f-f5f7-660ad26524f0"
   },
   "outputs": [],
   "source": [
    "# Make PACF plot\n",
    "plot_pacf(earthquake['earthquakes_per_year'], lags=10, zero=False)\n",
    "plt.show()"
   ]
  },
  {
   "cell_type": "markdown",
   "id": "-6VPn786mlox",
   "metadata": {
    "id": "-6VPn786mlox"
   },
   "source": [
    "## 3.2. Intro to AIC and BIC"
   ]
  },
  {
   "cell_type": "code",
   "execution_count": null,
   "id": "YRN0C3sEmlox",
   "metadata": {
    "id": "YRN0C3sEmlox",
    "outputId": "b13ca7b6-a535-477a-e5d7-5938d30ce1b4"
   },
   "outputs": [],
   "source": [
    "import statsmodels.api as sm\n",
    "order_aic_bic =[]\n",
    "# Loop over p values from 0-2\n",
    "for p in range(3):\n",
    "    # Loop over q values from 0-2\n",
    "    for q in range(3):\n",
    "      \n",
    "        try:\n",
    "            # create and fit ARMA(p,q) model\n",
    "            model = sm.tsa.statespace.SARIMAX(earthquake['earthquakes_per_year'], order=(p, 0, q))\n",
    "            results = model.fit()\n",
    "            \n",
    "            # Print order and results\n",
    "            order_aic_bic.append((p, q, results.aic, results.bic)) \n",
    "            print(\"==================================================\\n\")\n",
    "        except:\n",
    "            print(p, q, None, None)"
   ]
  },
  {
   "cell_type": "code",
   "execution_count": null,
   "id": "176a50af-5ccb-44d5-9d49-1680335ec7cd",
   "metadata": {},
   "outputs": [],
   "source": [
    "# Make DataFrame of model order and AIC/BIC scores\n",
    "order_df = pd.DataFrame(order_aic_bic, columns=['p', 'q', 'aic','bic'])"
   ]
  },
  {
   "cell_type": "markdown",
   "id": "483f09fe-73ba-47de-b37e-8e5fdbe4c886",
   "metadata": {},
   "source": [
    "Let's sort them by AIC and BIC"
   ]
  },
  {
   "cell_type": "markdown",
   "id": "f662b513-43c1-4c25-96fd-f46f2a8aa62b",
   "metadata": {},
   "source": [
    "Models sorted by AIC"
   ]
  },
  {
   "cell_type": "code",
   "execution_count": null,
   "id": "eca59f4b-2d3d-4bb8-ac33-0f15aa7c9243",
   "metadata": {},
   "outputs": [],
   "source": [
    "order_df.sort_values('aic').reset_index(drop=True)"
   ]
  },
  {
   "cell_type": "markdown",
   "id": "1a2c20e5-1b2c-418e-84c7-7c0a4f2b970d",
   "metadata": {},
   "source": [
    "Models sorted by BIC"
   ]
  },
  {
   "cell_type": "code",
   "execution_count": null,
   "id": "247dc491-c198-4ba0-8996-fe94fa87d5d7",
   "metadata": {},
   "outputs": [],
   "source": [
    "order_df.sort_values('bic').reset_index(drop=True)"
   ]
  },
  {
   "cell_type": "markdown",
   "id": "eEgqBFv1mloz",
   "metadata": {
    "id": "eEgqBFv1mloz"
   },
   "source": [
    "## 3.3. The model diagnostic"
   ]
  },
  {
   "cell_type": "code",
   "execution_count": null,
   "id": "rXIewMh4mlo0",
   "metadata": {
    "id": "rXIewMh4mlo0",
    "outputId": "073a2d89-b6c7-4ce2-ed8e-9688e76a251c"
   },
   "outputs": [],
   "source": [
    "# The model with the best p and q found from pervious step\n",
    "model = sm.tsa.statespace.SARIMAX(earthquake['earthquakes_per_year'], order=(1, 0, 1))\n",
    "# Fit model\n",
    "results = model.fit()\n",
    "# Assign residuals to variable\n",
    "residuals = results.resid"
   ]
  },
  {
   "cell_type": "code",
   "execution_count": null,
   "id": "88e0acb3-f625-4b15-a3c7-c9c637c9c790",
   "metadata": {},
   "outputs": [],
   "source": [
    "residuals"
   ]
  },
  {
   "cell_type": "code",
   "execution_count": null,
   "id": "lyzrF_JDmlo1",
   "metadata": {
    "id": "lyzrF_JDmlo1",
    "outputId": "8596d880-1e5c-4a9e-d9fb-29da1d3cf3cc"
   },
   "outputs": [],
   "source": [
    "# The mean absolute error\n",
    "mae = np.mean(np.abs(residuals))\n",
    "print(\"MAE: {}\".format(round(mae, 4)))"
   ]
  },
  {
   "cell_type": "code",
   "execution_count": null,
   "id": "PElpW5u4mlo2",
   "metadata": {
    "id": "PElpW5u4mlo2",
    "outputId": "f3049d2f-610e-4715-fbfb-5c145936cb0c"
   },
   "outputs": [],
   "source": [
    "# Create the 4 diagostics plots\n",
    "results.plot_diagnostics(figsize=(10,10))\n",
    "plt.show()"
   ]
  },
  {
   "cell_type": "code",
   "execution_count": null,
   "id": "wtm8Dcsdmlo4",
   "metadata": {
    "id": "wtm8Dcsdmlo4",
    "outputId": "d830224e-5271-4b50-c4db-10e065bd067e",
    "scrolled": true
   },
   "outputs": [],
   "source": [
    "# Summary statistics\n",
    "results.summary()"
   ]
  },
  {
   "cell_type": "markdown",
   "id": "rb4K4Cj-mlo5",
   "metadata": {
    "id": "rb4K4Cj-mlo5"
   },
   "source": [
    "# 3.4. The Box-Jenkins method"
   ]
  },
  {
   "cell_type": "markdown",
   "id": "SzgutmnSmlo6",
   "metadata": {
    "id": "SzgutmnSmlo6"
   },
   "source": [
    "## Identification "
   ]
  },
  {
   "cell_type": "code",
   "execution_count": null,
   "id": "7_n5erqMmlo6",
   "metadata": {
    "id": "7_n5erqMmlo6",
    "outputId": "d806cfe8-8a7b-4e2e-e076-3012c27e4aaf"
   },
   "outputs": [],
   "source": [
    "co2 = pd.read_csv('{}/co2.csv'.format(DATA_DIRECTORY), index_col='date', parse_dates=True)\n",
    "co2.plot()"
   ]
  },
  {
   "cell_type": "code",
   "execution_count": null,
   "id": "hb6u5gKdmlo9",
   "metadata": {
    "id": "hb6u5gKdmlo9",
    "outputId": "6401d774-0a8b-4e82-edae-aeec45ac0973"
   },
   "outputs": [],
   "source": [
    "from statsmodels.tsa.stattools import adfuller\n",
    "\n",
    "# Run Dicky-Fuller test\n",
    "result = adfuller(co2)\n",
    "\n",
    "# Print test statistic\n",
    "print('The test stastics:', round(result[0], 4))\n",
    "\n",
    "# Print p-value\n",
    "print(\"The p-value:\", round(result[1], 4))"
   ]
  },
  {
   "cell_type": "code",
   "execution_count": null,
   "id": "V102nH9gmlo-",
   "metadata": {
    "id": "V102nH9gmlo-",
    "outputId": "27d6b863-9275-49de-aad9-107382940051",
    "scrolled": true
   },
   "outputs": [],
   "source": [
    "co2_diff = co2.diff()\n",
    "co2_diff = co2_diff.dropna()\n",
    "co2_diff.plot()\n",
    "\n",
    "# Run Dicky-Fuller test\n",
    "result_diff = adfuller(co2_diff)\n",
    "\n",
    "# Print test statistic\n",
    "print('The test stastics:', round(result_diff[0], 4))\n",
    "\n",
    "# Print p-value\n",
    "print(\"The p-value:\", round(result_diff[1], 4))"
   ]
  },
  {
   "cell_type": "code",
   "execution_count": null,
   "id": "Rne0nOgwmlq7",
   "metadata": {
    "id": "Rne0nOgwmlq7",
    "outputId": "5dbe9a28-1d37-42fc-d0a7-ab4e31a3e63c",
    "scrolled": true
   },
   "outputs": [],
   "source": [
    "from statsmodels.graphics.tsaplots import plot_acf, plot_pacf\n",
    "\n",
    "# Create figure\n",
    "fig, (ax1, ax2) = plt.subplots(2,1, figsize=(12,8))\n",
    " \n",
    "# Plot the ACF of savings on ax1\n",
    "plot_acf(co2_diff, lags=20, zero=False, ax=ax1)\n",
    "\n",
    "# Plot the PACF of savings on ax2\n",
    "plot_pacf(co2_diff, lags=20, zero=False, ax=ax2)\n",
    "\n",
    "plt.show()"
   ]
  },
  {
   "cell_type": "markdown",
   "id": "gS3Aznn7mlq9",
   "metadata": {
    "id": "gS3Aznn7mlq9"
   },
   "source": [
    "# Estimation "
   ]
  },
  {
   "cell_type": "code",
   "execution_count": null,
   "id": "_S5e6xiemlq-",
   "metadata": {
    "id": "_S5e6xiemlq-",
    "outputId": "aadad3da-78f7-4c0d-b9a6-fe8bb3145015"
   },
   "outputs": [],
   "source": [
    "import statsmodels.api as sm\n",
    "order_aic_bic =[]\n",
    "\n",
    "# Loop over p values from 0-4\n",
    "for p in range(5):\n",
    "    # Loop over q values from 0-4\n",
    "    for q in range(5):\n",
    "      \n",
    "        try:\n",
    "            # create and fit ARMA(p,q) model\n",
    "            model = sm.tsa.statespace.SARIMAX(co2, order=(p, 1, q))\n",
    "            results = model.fit()\n",
    "            \n",
    "            # Print order and results\n",
    "            order_aic_bic.append((p, q, results.aic, results.bic))\n",
    "            print(\"====================================================\")\n",
    "        except:\n",
    "            print(p, q, None, None)"
   ]
  },
  {
   "cell_type": "code",
   "execution_count": null,
   "id": "237b6708-f223-4a7f-a680-54435d99b1b2",
   "metadata": {},
   "outputs": [],
   "source": [
    "# Make DataFrame of model order and AIC/BIC scores\n",
    "order_df = pd.DataFrame(order_aic_bic, columns=['p', 'q', 'aic','bic'])"
   ]
  },
  {
   "cell_type": "markdown",
   "id": "432d0555-15c6-4db9-ac4e-e6a4ed4c9000",
   "metadata": {},
   "source": [
    "Models sorted by AIC"
   ]
  },
  {
   "cell_type": "code",
   "execution_count": null,
   "id": "2771f377-c027-4523-be2f-c08e4da82539",
   "metadata": {},
   "outputs": [],
   "source": [
    "order_df.sort_values('aic').reset_index(drop=True)"
   ]
  },
  {
   "cell_type": "markdown",
   "id": "faeaec72-7ab4-4553-84ee-60818da0c551",
   "metadata": {},
   "source": [
    "Models sorted by BIC"
   ]
  },
  {
   "cell_type": "code",
   "execution_count": null,
   "id": "5747407a-3b5c-4d88-a39e-165cc683a620",
   "metadata": {},
   "outputs": [],
   "source": [
    "order_df.sort_values('bic').reset_index(drop=True)"
   ]
  },
  {
   "cell_type": "code",
   "execution_count": null,
   "id": "YysO3PCemlrA",
   "metadata": {
    "id": "YysO3PCemlrA",
    "outputId": "eff5d6b6-2388-468d-80d9-96738b8cd979"
   },
   "outputs": [],
   "source": [
    "# Create and fit model\n",
    "model = sm.tsa.statespace.SARIMAX(co2, order=(4,1,4), trend='c')\n",
    "results = model.fit()\n",
    "\n",
    "# Create the 4 diagostics plots\n",
    "results.plot_diagnostics(figsize=(10,10))\n",
    "plt.show()\n",
    "\n",
    "# Print summary\n",
    "results.summary()"
   ]
  },
  {
   "cell_type": "markdown",
   "id": "JIaG504_mlrE",
   "metadata": {
    "id": "JIaG504_mlrE"
   },
   "source": [
    "# 4. Seasonal ARIMA Models"
   ]
  },
  {
   "cell_type": "markdown",
   "id": "ZDeBpnehmlrF",
   "metadata": {
    "id": "ZDeBpnehmlrF"
   },
   "source": [
    "## 4.1. Seasonal time series"
   ]
  },
  {
   "cell_type": "code",
   "execution_count": null,
   "id": "fcUsEyyQmlrF",
   "metadata": {
    "id": "fcUsEyyQmlrF",
    "outputId": "8455d656-a998-4aee-a287-b659666d8348",
    "scrolled": true
   },
   "outputs": [],
   "source": [
    "# load the candy production data\n",
    "candy = pd.read_csv('{}/candy_production.csv'.format(DATA_DIRECTORY), index_col='date', parse_dates=True)\n",
    "\n",
    "# Plot and show the time series on axis ax1\n",
    "fig, ax1 = plt.subplots()\n",
    "candy.plot(ax=ax1, figsize=(12,10))\n",
    "plt.title('Monthly production of candy in US')\n",
    "plt.xlabel('Date')\n",
    "plt.ylabel('Production')\n",
    "plt.show()"
   ]
  },
  {
   "cell_type": "code",
   "execution_count": null,
   "id": "EIBLIJq1mlrG",
   "metadata": {
    "id": "EIBLIJq1mlrG",
    "outputId": "06ca213e-7865-4922-f8e2-ff854f1f9c52"
   },
   "outputs": [],
   "source": [
    "# Import\n",
    "from statsmodels.tsa.seasonal import seasonal_decompose\n",
    "# Decompose data\n",
    "decomp_results = seasonal_decompose(candy, period=12)\n",
    "\n",
    "# Plot decomposed data\n",
    "plt.rcParams[\"figure.figsize\"] = (10,15)\n",
    "decomp_results.plot()\n",
    "plt.show()"
   ]
  },
  {
   "cell_type": "code",
   "execution_count": null,
   "id": "2soyxyOHmlrI",
   "metadata": {
    "id": "2soyxyOHmlrI",
    "outputId": "b38aa90d-9472-4f16-de1b-df4da3292a0c",
    "scrolled": true
   },
   "outputs": [],
   "source": [
    "# Subtract long rolling average over 5 steps\n",
    "candy = candy - candy.rolling(5).mean()\n",
    "# Drop NaN values\n",
    "candy = candy.dropna()\n",
    "\n",
    "# Identifying seasonal data using ACF\n",
    "\n",
    "# Create figure\n",
    "fig, ax = plt.subplots(1,1, figsize=(8,4))\n",
    "# Plot ACF\n",
    "plot_acf(candy.dropna(), ax=ax, lags=25, zero=False)\n",
    "plt.show()"
   ]
  },
  {
   "cell_type": "markdown",
   "id": "S6PrdRCLmlrJ",
   "metadata": {
    "id": "S6PrdRCLmlrJ"
   },
   "source": [
    "## 4.2. Seasonal ARIMA model"
   ]
  },
  {
   "cell_type": "code",
   "execution_count": null,
   "id": "x6nu7LHSmlrK",
   "metadata": {
    "id": "x6nu7LHSmlrK",
    "outputId": "e5fd9834-4241-4a94-ef13-438095ccb2f8"
   },
   "outputs": [],
   "source": [
    "# load the candy production data\n",
    "candy = pd.read_csv('{}/candy_production.csv'.format(DATA_DIRECTORY), index_col='date', parse_dates=True)\n",
    "\n",
    "# Plot and show the time series on axis ax1\n",
    "fig, ax1 = plt.subplots()\n",
    "candy.plot(ax=ax1, figsize=(12,10))\n",
    "plt.title('Monthly production of candy in US')\n",
    "plt.xlabel('Date')\n",
    "plt.ylabel('Production')\n",
    "plt.show()"
   ]
  },
  {
   "cell_type": "code",
   "execution_count": null,
   "id": "vvpHRVcMmlrM",
   "metadata": {
    "id": "vvpHRVcMmlrM",
    "outputId": "435e69f8-2007-484b-bb3d-a4db6da7c1ec"
   },
   "outputs": [],
   "source": [
    "# Seasonal differencing\n",
    "S = 12\n",
    "candy_diff = candy.diff(S)\n",
    "candy_diff.plot()"
   ]
  },
  {
   "cell_type": "code",
   "execution_count": null,
   "id": "bTjR4V9bmlrN",
   "metadata": {
    "id": "bTjR4V9bmlrN",
    "outputId": "72ac0f4c-6a57-4fa6-ac64-1bf72653f652"
   },
   "outputs": [],
   "source": [
    "# one step differencing\n",
    "candy_diff = candy.diff()\n",
    "candy_diff = candy_diff.dropna()\n",
    "candy_diff.plot()"
   ]
  },
  {
   "cell_type": "code",
   "execution_count": null,
   "id": "j3etJ5VDmlrO",
   "metadata": {
    "id": "j3etJ5VDmlrO",
    "outputId": "1215f66b-01ec-43e0-e914-2c967c33c066"
   },
   "outputs": [],
   "source": [
    "# Run Dicky-Fuller test\n",
    "result = adfuller(candy_diff)\n",
    "\n",
    "# Print test statistic\n",
    "print('The test stastics:', round(result[0], 4))\n",
    "\n",
    "# Print p-value\n",
    "print(\"The p-value:\", round(result[1], 4))\n"
   ]
  },
  {
   "cell_type": "code",
   "execution_count": null,
   "id": "OSbiacbvmlrQ",
   "metadata": {
    "id": "OSbiacbvmlrQ",
    "outputId": "04d6550d-96a4-47fa-c19e-320da8baaf33"
   },
   "outputs": [],
   "source": [
    "# find the non-seasonal model prameters \n",
    "from statsmodels.graphics.tsaplots import plot_acf, plot_pacf\n",
    "\n",
    "# Create figure\n",
    "fig, (ax1, ax2) = plt.subplots(2,1, figsize=(12,8))\n",
    " \n",
    "# Plot the ACF of savings on ax1\n",
    "plot_acf(candy_diff, lags=20, zero=False, ax=ax1)\n",
    "\n",
    "# Plot the PACF of savings on ax2\n",
    "plot_pacf(candy_diff, lags=20, zero=False, ax=ax2)\n",
    "\n",
    "plt.show()"
   ]
  },
  {
   "cell_type": "markdown",
   "id": "g4dZAnfYmlrR",
   "metadata": {
    "id": "g4dZAnfYmlrR"
   },
   "source": [
    "We cannot estimate the values of the non-seasonal from the PACF and ACF plot, so we will use AIC and BIC"
   ]
  },
  {
   "cell_type": "code",
   "execution_count": null,
   "id": "ro217-XHmlrU",
   "metadata": {
    "id": "ro217-XHmlrU",
    "outputId": "defa9cef-93fc-4588-faef-07f44cea0c06"
   },
   "outputs": [],
   "source": [
    "import statsmodels.api as sm\n",
    "order_aic_bic =[]\n",
    "\n",
    "# Loop over p values from 0-4\n",
    "for p in range(5):\n",
    "    # Loop over q values from 0-4\n",
    "    for q in range(5):\n",
    "      \n",
    "        try:\n",
    "            # create and fit ARMA(p,q) model\n",
    "            model = sm.tsa.statespace.SARIMAX(candy_diff, order=(p, 1, q))\n",
    "            results = model.fit()\n",
    "            \n",
    "            # Print order and results\n",
    "            order_aic_bic.append((p, q, results.aic, results.bic))\n",
    "            print(\"======================================================\")\n",
    "        except:\n",
    "            print(p, q, None, None)"
   ]
  },
  {
   "cell_type": "code",
   "execution_count": null,
   "id": "875bceb8-6d39-47df-9d6a-bfb01f3094f8",
   "metadata": {},
   "outputs": [],
   "source": [
    "order_df = pd.DataFrame(order_aic_bic, columns=['p', 'q', 'aic','bic'])"
   ]
  },
  {
   "cell_type": "markdown",
   "id": "8c2a5633-fafc-416b-a3f6-1f56c40f9f6c",
   "metadata": {},
   "source": [
    "Models sorted by AIC"
   ]
  },
  {
   "cell_type": "code",
   "execution_count": null,
   "id": "dac0253a-49ff-485e-9a66-bd1a2974e4f0",
   "metadata": {},
   "outputs": [],
   "source": [
    "order_df.sort_values('aic').reset_index(drop=True)"
   ]
  },
  {
   "cell_type": "markdown",
   "id": "e06fec61-e853-45e4-b07e-cb873e653d85",
   "metadata": {},
   "source": [
    "Models sorted by BIC"
   ]
  },
  {
   "cell_type": "code",
   "execution_count": null,
   "id": "b9f5baea-48d5-4083-9c51-b67896de7d0a",
   "metadata": {},
   "outputs": [],
   "source": [
    "order_df.sort_values('bic').reset_index(drop=True)"
   ]
  },
  {
   "cell_type": "markdown",
   "id": "aEK_xU9xmlrW",
   "metadata": {
    "id": "aEK_xU9xmlrW"
   },
   "source": [
    "The best prameters to be used is (4,3)"
   ]
  },
  {
   "cell_type": "code",
   "execution_count": null,
   "id": "CKchiaQ8mlrX",
   "metadata": {
    "id": "CKchiaQ8mlrX",
    "outputId": "db8d8edd-4542-448b-b4ea-67bd0ae44a53"
   },
   "outputs": [],
   "source": [
    "# Plotting seasonal ACF and PACF\n",
    "\n",
    "# Create figure\n",
    "fig, (ax1, ax2) = plt.subplots(2,1)\n",
    "\n",
    "# Plot seasonal ACF\n",
    "plot_acf(candy_diff, lags=[12,24,36,48,60,72, 84, 96 ], ax=ax1)\n",
    "\n",
    "# Plot seasonal PACF\n",
    "plot_pacf(candy_diff, lags=[12,24,36,48,60,72, 84, 96], ax=ax2)\n",
    "plt.show()"
   ]
  },
  {
   "cell_type": "markdown",
   "id": "Rs6JPNGkmlrZ",
   "metadata": {
    "id": "Rs6JPNGkmlrZ"
   },
   "source": [
    "ACF tails offf and PACF cuts off after lag of 3"
   ]
  },
  {
   "cell_type": "code",
   "execution_count": null,
   "id": "oagHP1Hdmlrb",
   "metadata": {
    "id": "oagHP1Hdmlrb",
    "outputId": "ccd30e4a-09be-446a-9aa9-b557465243af"
   },
   "outputs": [],
   "source": [
    "# Fitting a SARIMA model\n",
    "from statsmodels.tsa.statespace.sarimax import SARIMAX\n",
    "\n",
    "# Instantiate model\n",
    "S = 12\n",
    "D = 1\n",
    "d = 1\n",
    "P = 0\n",
    "Q = 3\n",
    "p = 4\n",
    "q = 3\n",
    "model = SARIMAX(candy, order=(p,d,q), seasonal_order=(P,D,Q,S))\n",
    "\n",
    "# Fit model\n",
    "results = model.fit()"
   ]
  },
  {
   "cell_type": "markdown",
   "id": "YEUFCJEBmlrd",
   "metadata": {
    "id": "YEUFCJEBmlrd"
   },
   "source": [
    "## 4.3. Automation and saving"
   ]
  },
  {
   "cell_type": "code",
   "execution_count": null,
   "id": "1ea6b95c-ab0b-41d8-a29d-7c39190009f7",
   "metadata": {},
   "outputs": [],
   "source": [
    "# Search over model orders\n",
    "import pmdarima as pm\n",
    "\n",
    "results = pm.auto_arima(candy)\n",
    "results"
   ]
  },
  {
   "cell_type": "code",
   "execution_count": null,
   "id": "6a6090ea-8859-49db-bb09-81e0b64f29b8",
   "metadata": {},
   "outputs": [],
   "source": [
    "results.summary()"
   ]
  },
  {
   "cell_type": "code",
   "execution_count": null,
   "id": "fy2dOfrgmlre",
   "metadata": {
    "id": "fy2dOfrgmlre",
    "outputId": "eec1e17f-bd08-4f1c-e0ee-9455460644c6"
   },
   "outputs": [],
   "source": [
    "results.plot_diagnostics()"
   ]
  },
  {
   "cell_type": "code",
   "execution_count": null,
   "id": "lMK5ZDT-mlrg",
   "metadata": {
    "id": "lMK5ZDT-mlrg",
    "outputId": "5908e8cd-b07f-4d49-bc81-f0cedd943c21"
   },
   "outputs": [],
   "source": [
    "# Seasonal search parameters\n",
    "\n",
    "results = pm.auto_arima(candy, # data\n",
    "                        seasonal=True, # is the time series seasonal\n",
    "                        m=12, # the seasonal period\n",
    "                        D=1, # seasonal difference order\n",
    "                        start_P=1, # initial guess for P\n",
    "                        start_Q=1, # initial guess for Q\n",
    "                        max_P=4, # max value of P to test\n",
    "                        max_Q=4, # max value of Q to test\n",
    "                        information_criterion='aic', # used to select the best model\n",
    "                        trace=True, # print results while training\n",
    "                        error_action='ignore', # ignore orders that don't work\n",
    "                        stepwise=True,\n",
    "                       )\n",
    "print(results)\n",
    "print(results.summary())\n",
    "results.plot_diagnostics()"
   ]
  },
  {
   "cell_type": "code",
   "execution_count": null,
   "id": "E7f6CXVHmlrh",
   "metadata": {
    "id": "E7f6CXVHmlrh",
    "outputId": "2f597465-a09d-4204-dd6b-17fc0056151f"
   },
   "outputs": [],
   "source": [
    "#Saving model objects\n",
    "# Import joblib\n",
    "import joblib\n",
    "# Select a filepath\n",
    "filepath = 'model.pkl'\n",
    "# Save model to file path\n",
    "joblib.dump(results, filepath)\n",
    "\n",
    "# Load the model \n",
    "# Select a filepath\n",
    "filepath ='model.pkl'\n",
    "# Load model object from file path\n",
    "loaded_model = joblib.load(filepath)"
   ]
  },
  {
   "cell_type": "code",
   "execution_count": null,
   "id": "k0wsXBuzmlrl",
   "metadata": {
    "id": "k0wsXBuzmlrl"
   },
   "outputs": [],
   "source": []
  }
 ],
 "metadata": {
  "colab": {
   "include_colab_link": true,
   "provenance": []
  },
  "kernelspec": {
   "display_name": "Python 3 (ipykernel)",
   "language": "python",
   "name": "python3"
  },
  "language_info": {
   "codemirror_mode": {
    "name": "ipython",
    "version": 3
   },
   "file_extension": ".py",
   "mimetype": "text/x-python",
   "name": "python",
   "nbconvert_exporter": "python",
   "pygments_lexer": "ipython3",
   "version": "3.9.1"
  }
 },
 "nbformat": 4,
 "nbformat_minor": 5
}
