{
 "cells": [
  {
   "cell_type": "markdown",
   "id": "89bfaec9",
   "metadata": {
    "colab_type": "text",
    "id": "view-in-github"
   },
   "source": [
    "<a href=\"https://colab.research.google.com/github/youssefHosni/Time-Series-With-Python/blob/main/Time_Series_Data%C2%A0Analysis.ipynb\" target=\"_parent\"><img src=\"https://colab.research.google.com/assets/colab-badge.svg\" alt=\"Open In Colab\"/></a>"
   ]
  },
  {
   "cell_type": "code",
   "execution_count": null,
   "id": "76175193",
   "metadata": {
    "id": "76175193"
   },
   "outputs": [],
   "source": [
    "import warnings\n",
    "warnings.filterwarnings('ignore')"
   ]
  },
  {
   "cell_type": "code",
   "execution_count": null,
   "id": "936ad9c4-b381-4387-8aa2-fdbfc38c0823",
   "metadata": {},
   "outputs": [],
   "source": [
    "import pandas as pd\n",
    "import matplotlib.pyplot as plt"
   ]
  },
  {
   "cell_type": "code",
   "execution_count": null,
   "id": "2de6a9f0-caa0-48f1-b3b5-74361501ea12",
   "metadata": {},
   "outputs": [],
   "source": [
    "DATA_DIRECTORY='../data/analysis'"
   ]
  },
  {
   "cell_type": "markdown",
   "id": "16513097",
   "metadata": {
    "id": "16513097"
   },
   "source": [
    "# 1. Correlation and Autocorrelation"
   ]
  },
  {
   "cell_type": "markdown",
   "id": "d5071266",
   "metadata": {
    "id": "d5071266"
   },
   "source": [
    "## 1.1. Correlation of Two Time Series"
   ]
  },
  {
   "cell_type": "code",
   "execution_count": null,
   "id": "76b5029f",
   "metadata": {
    "id": "76b5029f",
    "outputId": "970a0e64-74e1-43b0-d7c8-70b7846d117f"
   },
   "outputs": [],
   "source": [
    "# Compute the correlation between levels\n",
    "levels = pd.read_csv('{}/DJI.csv'.format(DATA_DIRECTORY), parse_dates=['Date'], index_col='Date')\n",
    "\n",
    "correlation1 = round(levels['DJI'].corr(levels['UFO']), 4)\n",
    "print(\"Correlation [levels]: \", correlation1)\n",
    "\n",
    "# Compute correlation of percent changes\n",
    "changes = levels.pct_change()\n",
    "correlation2 = round(changes['DJI'].corr(changes['UFO']), 4)\n",
    "print(\"Correlation [percent changes]: \", correlation2)"
   ]
  },
  {
   "cell_type": "code",
   "execution_count": null,
   "id": "1e4b7d25",
   "metadata": {
    "id": "1e4b7d25",
    "outputId": "ecdbb9df-293e-4089-87b2-45268add9d31"
   },
   "outputs": [],
   "source": [
    "levels.plot()"
   ]
  },
  {
   "cell_type": "markdown",
   "id": "fa8d3792",
   "metadata": {
    "id": "fa8d3792"
   },
   "source": [
    "## 1.2. Simple Linear Regression"
   ]
  },
  {
   "cell_type": "code",
   "execution_count": null,
   "id": "a3acdd42",
   "metadata": {
    "id": "a3acdd42",
    "outputId": "8dabb55c-8f33-4b04-8f48-94cf53524f83",
    "scrolled": true
   },
   "outputs": [],
   "source": [
    "import statsmodels.api as sm\n",
    "\n",
    "# Compute correlation of x and y\n",
    "data = pd.read_csv('{}/price.csv'.format(DATA_DIRECTORY), parse_dates=['DATE'], index_col='DATE')\n",
    "data = data.dropna()\n",
    "x = data['SP500']\n",
    "y = data['Oil']\n",
    "\n",
    "correlation = round(x.corr(y), 4)\n",
    "print(\"The correlation between x and y is %4.2f\" %(correlation))\n",
    "\n",
    "# Convert the Series x to a DataFrame and name the column x\n",
    "dfx = pd.DataFrame(x.values, columns=['x'])\n",
    "\n",
    "# Add a constant to the DataFrame dfx\n",
    "dfx1 = sm.add_constant(dfx)\n",
    "\n",
    "# Regress y on dfx1\n",
    "result = sm.OLS(y.values, dfx1).fit()\n",
    "\n",
    "# Print out the results and look at the relationship between R-squared and the correlation above\n",
    "result.summary()"
   ]
  },
  {
   "cell_type": "markdown",
   "id": "fb8fb2a2",
   "metadata": {
    "id": "fb8fb2a2"
   },
   "source": [
    "## 1.3. Autocorrelation"
   ]
  },
  {
   "cell_type": "markdown",
   "id": "58b3f0ec",
   "metadata": {
    "id": "58b3f0ec"
   },
   "source": [
    "## 1.4. Autocorrelation Function "
   ]
  },
  {
   "cell_type": "code",
   "execution_count": null,
   "id": "1c31cdc2",
   "metadata": {
    "id": "1c31cdc2"
   },
   "outputs": [],
   "source": [
    "HRB = pd.read_csv('{}/HRB.csv'.format(DATA_DIRECTORY), parse_dates=['Quarter'], index_col='Quarter')"
   ]
  },
  {
   "cell_type": "code",
   "execution_count": null,
   "id": "d73dac25",
   "metadata": {
    "id": "d73dac25",
    "outputId": "83fbdfe2-9497-4a84-95a9-133642c67337",
    "scrolled": true
   },
   "outputs": [],
   "source": [
    "# Import the acf module and the plot_acf module from statsmodels\n",
    "from statsmodels.tsa.stattools import acf\n",
    "from statsmodels.graphics.tsaplots import plot_acf\n",
    "\n",
    "# Compute the acf array of HRB\n",
    "acf_array = acf(HRB)\n",
    "#print(acf_array)\n",
    "\n",
    "# Plot the acf function\n",
    "fig = plot_acf(HRB, alpha=0.05)\n",
    "fig.set_size_inches(18.5, 10.5)\n",
    "\n",
    "plt.show()"
   ]
  },
  {
   "cell_type": "markdown",
   "id": "02b31c73",
   "metadata": {
    "id": "02b31c73"
   },
   "source": [
    "# 2. Simple Time Series"
   ]
  },
  {
   "cell_type": "markdown",
   "id": "b3f2d6ee",
   "metadata": {
    "id": "b3f2d6ee"
   },
   "source": [
    "## 2.1. White Noise "
   ]
  },
  {
   "cell_type": "code",
   "execution_count": null,
   "id": "eea51e22",
   "metadata": {
    "id": "eea51e22"
   },
   "outputs": [],
   "source": [
    "import numpy as np\n",
    "noise = np.random.normal(loc=0, scale=1, size=500)"
   ]
  },
  {
   "cell_type": "code",
   "execution_count": null,
   "id": "b64e4c07",
   "metadata": {
    "id": "b64e4c07",
    "outputId": "6134701c-bfa2-41c3-c5b7-b01a8f53ece1",
    "scrolled": true
   },
   "outputs": [],
   "source": [
    "plt.plot(noise)\n",
    "plt.show()\n",
    "plot_acf(noise, lags=50)\n",
    "plt.show()"
   ]
  },
  {
   "cell_type": "markdown",
   "id": "2dc7a401",
   "metadata": {
    "id": "2dc7a401"
   },
   "source": [
    "## 2.2 Random walk"
   ]
  },
  {
   "cell_type": "code",
   "execution_count": null,
   "id": "85912329",
   "metadata": {
    "id": "85912329"
   },
   "outputs": [],
   "source": [
    "from statsmodels.tsa.stattools import adfuller"
   ]
  },
  {
   "cell_type": "code",
   "execution_count": null,
   "id": "572eae97",
   "metadata": {
    "id": "572eae97"
   },
   "outputs": [],
   "source": [
    "data = pd.read_csv('{}/price.csv'.format(DATA_DIRECTORY), parse_dates=['DATE'], index_col='DATE')\n",
    "data = data.dropna()\n",
    "SPX = data['SP500']\n",
    "\n",
    "# We perform the Augmented Dickey-Fuller unit root test.\n",
    "# Check the following docs for more information: https://www.statsmodels.org/dev/generated/statsmodels.tsa.stattools.adfuller.html\n",
    "results = adfuller(SPX)\n",
    "pvalue=round(results[1], 4)"
   ]
  },
  {
   "cell_type": "code",
   "execution_count": null,
   "id": "476932a1",
   "metadata": {
    "id": "476932a1",
    "outputId": "d74c46ec-bd2f-4289-c0c6-73fccfbbaa4a"
   },
   "outputs": [],
   "source": [
    "print(\"We test H0: There is a unit root in an AR model, which implies that the data series is not stationary.\")\n",
    "print(\"We reject the H0 if p-value less than 0.05. p-value={}\".format(pvalue))"
   ]
  },
  {
   "cell_type": "markdown",
   "id": "66b1e6e9",
   "metadata": {
    "id": "66b1e6e9"
   },
   "source": [
    "## 2.3. Stationary"
   ]
  },
  {
   "cell_type": "code",
   "execution_count": null,
   "id": "1bfd7504",
   "metadata": {
    "id": "1bfd7504",
    "outputId": "ca7a9fa2-1c66-4781-bfe6-00b9fbd2e866",
    "scrolled": true
   },
   "outputs": [],
   "source": [
    "# Transforming Nonstationary Series Into Stationary Series\n",
    "fig, axs = plt.subplots(2)\n",
    "fig.suptitle('Transforming Nonstationary Series Into Stationary Series')\n",
    "fig.set_size_inches(10, 10.5)\n",
    "axs[0].plot(SPX)\n",
    "axs[0].set_title('S&P 500 prices')\n",
    "\n",
    "axs[1].plot(SPX.diff())\n",
    "axs[1].set_title('S&P 500 prices first differnce')"
   ]
  },
  {
   "cell_type": "code",
   "execution_count": null,
   "id": "36912004",
   "metadata": {
    "id": "36912004",
    "outputId": "e8533733-758c-4433-aafb-537bd9da5156"
   },
   "outputs": [],
   "source": [
    "# Transforming Nonstationary Series Into Stationary Series\n",
    "fig, axs = plt.subplots(2)\n",
    "fig.suptitle('Transforming Nonstationary Series Into Stationary Series')\n",
    "fig.set_size_inches(10, 10.5)\n",
    "\n",
    "axs[0].plot(HRB)\n",
    "axs[0].set_title('Quarterly earnings for H&R Block')\n",
    "\n",
    "axs[1].plot(HRB.diff(4))\n",
    "axs[1].set_title('Quarterly earnings for H&R Block seasonal difference')"
   ]
  },
  {
   "cell_type": "code",
   "execution_count": null,
   "id": "5de2269a",
   "metadata": {
    "id": "5de2269a",
    "outputId": "53db9bae-263e-4b8a-a3c3-b144e8fa48ec"
   },
   "outputs": [],
   "source": [
    "# Transforming Nonstationary Series Into Stationary Series\n",
    "AMZN =  pd.read_csv('{}/AMZN.csv'.format(DATA_DIRECTORY), parse_dates=['Date'], index_col='Date')\n",
    "\n",
    "fig, axs = plt.subplots(3)\n",
    "fig.suptitle('Transforming Nonstationary Series Into Stationary Series')\n",
    "fig.set_size_inches(10, 10.5)\n",
    "\n",
    "axs[0].plot(AMZN)\n",
    "axs[0].set_title('Amazon quarterly revenue')\n",
    "\n",
    "axs[1].plot(np.log(AMZN))\n",
    "axs[1].set_title('Log of Amazon quarterly revenue')\n",
    "\n",
    "axs[2].plot(np.log(AMZN).diff(4))\n",
    "axs[2].set_title('Seasonal difference of Amazon quarterly revenue log')"
   ]
  },
  {
   "cell_type": "markdown",
   "id": "313938a0",
   "metadata": {
    "id": "313938a0"
   },
   "source": [
    "# 3. Autoregressive (AR) Models"
   ]
  },
  {
   "cell_type": "code",
   "execution_count": null,
   "id": "66c7724f",
   "metadata": {
    "id": "66c7724f",
    "outputId": "a172b85e-f852-4596-e31b-9ffe84314f2a"
   },
   "outputs": [],
   "source": [
    "from statsmodels.tsa.arima_process import ArmaProcess\n",
    "ar = np.array([1, -0.9])\n",
    "ma = np.array([1])\n",
    "AR_object = ArmaProcess(ar, ma)\n",
    "simulated_data = AR_object.generate_sample(nsample=1000)\n",
    "plt.plot(simulated_data)"
   ]
  },
  {
   "cell_type": "code",
   "execution_count": null,
   "id": "dc2fe46e",
   "metadata": {
    "id": "dc2fe46e",
    "outputId": "7f1fa070-b73d-4e95-e71a-cd217b65300d"
   },
   "outputs": [],
   "source": [
    "# import the module for simulating data\n",
    "from statsmodels.tsa.arima_process import ArmaProcess\n",
    "\n",
    "fig, axs = plt.subplots(4)\n",
    "fig.set_size_inches(12, 14.5)\n",
    "fig.suptitle('Simulated data with different AR parameters')\n",
    "\n",
    "# Plot 1: AR parameter = +0.9\n",
    "ar1 = np.array([1, -0.9])\n",
    "ma1 = np.array([1])\n",
    "AR_object1 = ArmaProcess(ar1, ma1)\n",
    "simulated_data_1 = AR_object1.generate_sample(nsample=1000)\n",
    "axs[0].plot(simulated_data_1)\n",
    "axs[0].set_title('Simulated data with Phi = +0.9 ')\n",
    "\n",
    "# Plot 2: AR parameter = -0.9\n",
    "ar2 = np.array([1, 0.9])\n",
    "ma2 = np.array([1])\n",
    "AR_object2 = ArmaProcess(ar2, ma2)\n",
    "simulated_data_2 = AR_object2.generate_sample(nsample=1000)\n",
    "axs[1].plot(simulated_data_2)\n",
    "axs[1].set_title('Simulated data with Phi = -0.9 ')\n",
    "\n",
    "\n",
    "# Plot 3: AR parameter = +0.5\n",
    "ar3 = np.array([1, -0.5])\n",
    "ma3 = np.array([1])\n",
    "AR_object3 = ArmaProcess(ar3, ma3)\n",
    "simulated_data_3 = AR_object3.generate_sample(nsample=1000)\n",
    "axs[2].plot(simulated_data_3)\n",
    "axs[2].set_title('Simulated data with Phi = +0.5')\n",
    "\n",
    "\n",
    "# Plot 3: AR parameter = -0.5\n",
    "ar4 = np.array([1, 0.5])\n",
    "ma4 = np.array([1])\n",
    "AR_object4 = ArmaProcess(ar4, ma4)\n",
    "simulated_data_4 = AR_object4.generate_sample(nsample=1000)\n",
    "axs[3].plot(simulated_data_4)\n",
    "axs[3].set_title('Simulated data with Phi = -0.5')"
   ]
  },
  {
   "cell_type": "code",
   "execution_count": null,
   "id": "84d694a5",
   "metadata": {
    "id": "84d694a5",
    "outputId": "0447010e-2907-42c8-8f95-685bb32e6d3c"
   },
   "outputs": [],
   "source": [
    "# Import the plot_acf module from statsmodels\n",
    "from statsmodels.graphics.tsaplots import plot_acf\n",
    "\n",
    "fig, axs = plt.subplots(2,2,figsize=(15,10))\n",
    "fig.suptitle('Autocorrelation functions for different AR parameters')\n",
    "\n",
    "# Plot 1: AR parameter = +0.9\n",
    "plot_acf(simulated_data_1 , alpha=1, lags=20, ax=axs[0,0], title='Autocorrelation function for Phi = +0.9')\n",
    "\n",
    "# Plot 2: AR parameter = -0.9\n",
    "plot_acf(simulated_data_2 , alpha=1, lags=20, ax=axs[0,1], title='Autocorrelation function for Phi = -0.9')\n",
    "\n",
    "# Plot 3: AR parameter = +0.5\n",
    "plot_acf(simulated_data_3, alpha=1, lags=20,  ax=axs[1,0], title='Autocorrelation function for Phi = +0.5')\n",
    "\n",
    "# Plot 4: AR parameter = -0.5\n",
    "plot_acf(simulated_data_4, alpha=1, lags=20,  ax=axs[1,1], title='Autocorrelation function for Phi = -0.5')\n"
   ]
  },
  {
   "cell_type": "markdown",
   "id": "3e851fb0",
   "metadata": {
    "id": "3e851fb0"
   },
   "source": [
    "## 3.2. Estimating & Forecasting AR Models"
   ]
  },
  {
   "cell_type": "code",
   "execution_count": null,
   "id": "e9bf30d5",
   "metadata": {
    "id": "e9bf30d5",
    "outputId": "8c38ce64-379c-4ac6-80af-27345d47dcf2"
   },
   "outputs": [],
   "source": [
    "from statsmodels.tsa.arima.model import ARIMA\n",
    "mod = ARIMA(simulated_data, order=(1,0,0))\n",
    "result = mod.fit()\n",
    "result.summary()"
   ]
  },
  {
   "cell_type": "code",
   "execution_count": null,
   "id": "97e29ee9",
   "metadata": {
    "id": "97e29ee9",
    "outputId": "97a3b962-92a1-4961-f8e8-0b07a3c407af"
   },
   "outputs": [],
   "source": [
    "print(\"Fitted parameters (see const, ar.L1, and sigma2 coefficients above): {}\".format(result.params))"
   ]
  },
  {
   "cell_type": "markdown",
   "id": "69c20d98",
   "metadata": {
    "id": "69c20d98"
   },
   "source": [
    "## 3.3. Choosing the Right Model"
   ]
  },
  {
   "cell_type": "markdown",
   "id": "2b653571-973e-4b21-af81-11f33d9ac06c",
   "metadata": {},
   "source": [
    "We prepare simulated data, so that we can later check which model fits best. \n",
    "By simulating data, we know beforehand which models should be best. "
   ]
  },
  {
   "cell_type": "code",
   "execution_count": null,
   "id": "184483b3",
   "metadata": {
    "id": "184483b3",
    "outputId": "0d5cf678-0212-4fb8-cbd6-ec6756e4d896"
   },
   "outputs": [],
   "source": [
    "# Import the modules for simulating data and for plotting the PACF\n",
    "from statsmodels.tsa.arima_process import ArmaProcess\n",
    "from statsmodels.graphics.tsaplots import plot_pacf\n",
    "\n",
    "# Simulate AR(1) with phi=+0.6\n",
    "ma = np.array([1])\n",
    "ar = np.array([1, -0.6])\n",
    "AR_object = ArmaProcess(ar, ma)\n",
    "simulated_data_1 = AR_object.generate_sample(nsample=5000)\n",
    "\n",
    "# Plot PACF for AR(1)\n",
    "plot_pacf(simulated_data_1, lags=20)\n",
    "plt.show()\n",
    "\n",
    "# Simulate AR(2) with phi1=+0.6, phi2=+0.3\n",
    "ma = np.array([1])\n",
    "ar = np.array([1, -0.6, -0.3])\n",
    "AR_object = ArmaProcess(ar, ma)\n",
    "simulated_data_2 = AR_object.generate_sample(nsample=5000)\n",
    "\n",
    "# Plot PACF for AR(2)\n",
    "plot_pacf(simulated_data_2, lags=20)\n",
    "plt.show()"
   ]
  },
  {
   "cell_type": "code",
   "execution_count": null,
   "id": "315a2aed",
   "metadata": {
    "id": "315a2aed",
    "outputId": "13e12a50-4361-4177-9eec-94c4409b54dd"
   },
   "outputs": [],
   "source": [
    "mod = ARIMA(simulated_data_2, order=(2,0,0))\n",
    "result = mod.fit()\n",
    "result.summary()"
   ]
  },
  {
   "cell_type": "markdown",
   "id": "bf314453-7295-49b0-8cd1-83ac695d8341",
   "metadata": {},
   "source": [
    "## Estimating model goodness with the Bayesian Information Criterion\n",
    "We test different ARIMA parameters, and check for the lowest Bayesian Information Criterion"
   ]
  },
  {
   "cell_type": "code",
   "execution_count": null,
   "id": "a67643cc",
   "metadata": {
    "id": "a67643cc",
    "outputId": "c01c44dc-0084-4852-9351-b922344aa432"
   },
   "outputs": [],
   "source": [
    "# Import the module for estimating an ARMA model\n",
    "from statsmodels.tsa.arima.model import ARIMA\n",
    "\n",
    "# Fit the data to an AR(p) for p = 0,...,6 , and save the BIC\n",
    "BIC = np.zeros(7)\n",
    "for p in range(7):\n",
    "    mod = ARIMA(simulated_data_1, order=(p,0,0))\n",
    "    res = mod.fit()\n",
    "# Save BIC for AR(p)    \n",
    "    BIC[p] = res.bic\n",
    "    \n",
    "# Plot the BIC as a function of p\n",
    "plt.plot(range(1,7), BIC[1:7], marker='o')\n",
    "plt.xlabel('Order of AR Model')\n",
    "plt.ylabel('Bayesian Information Criterion')\n",
    "plt.show()"
   ]
  },
  {
   "cell_type": "code",
   "execution_count": null,
   "id": "ab2a60ac",
   "metadata": {
    "id": "ab2a60ac",
    "outputId": "534ee9d4-4d07-4127-9bf5-9ca4e2d4929c"
   },
   "outputs": [],
   "source": [
    "# Import the module for estimating an ARMA model\n",
    "from statsmodels.tsa.arima.model import ARIMA\n",
    "\n",
    "# Fit the data to an AR(p) for p = 0,...,6 , and save the BIC\n",
    "BIC = np.zeros(7)\n",
    "for p in range(7):\n",
    "    mod = ARIMA(simulated_data_2, order=(p,0,0))\n",
    "    res = mod.fit()\n",
    "# Save BIC for AR(p)    \n",
    "    BIC[p] = res.bic\n",
    "    \n",
    "# Plot the BIC as a function of p\n",
    "plt.plot(range(1,7), BIC[1:7], marker='o')\n",
    "plt.xlabel('Order of AR Model')\n",
    "plt.ylabel('Bayesian Information Criterion')\n",
    "plt.show()"
   ]
  },
  {
   "cell_type": "markdown",
   "id": "fb42c61a",
   "metadata": {
    "id": "fb42c61a"
   },
   "source": [
    "# 4. Moving Average and ARMA Models"
   ]
  },
  {
   "cell_type": "markdown",
   "id": "2563545c",
   "metadata": {
    "id": "2563545c"
   },
   "source": [
    "## 4.1.Describe Model"
   ]
  },
  {
   "cell_type": "code",
   "execution_count": null,
   "id": "dfcd0a9e",
   "metadata": {
    "id": "dfcd0a9e",
    "outputId": "b8162ff9-90cf-41f5-faa3-2c939bc5b405"
   },
   "outputs": [],
   "source": [
    "from statsmodels.tsa.arima_process import ArmaProcess\n",
    "ar = np.array([1])\n",
    "ma = np.array([1, 0.5])\n",
    "AR_object = ArmaProcess(ar, ma)\n",
    "simulated_data = AR_object.generate_sample(nsample=1000)\n",
    "plt.plot(simulated_data)"
   ]
  },
  {
   "cell_type": "markdown",
   "id": "434d5aec",
   "metadata": {
    "id": "434d5aec"
   },
   "source": [
    "## 4.2. Estimation and Forecasting of MA Model"
   ]
  },
  {
   "cell_type": "code",
   "execution_count": null,
   "id": "75c9973b",
   "metadata": {
    "id": "75c9973b",
    "outputId": "b5f406ed-0934-4815-d76a-5f44e00ce942"
   },
   "outputs": [],
   "source": [
    "from statsmodels.tsa.arima.model import ARIMA\n",
    "mod = ARIMA(simulated_data, order=(0,0,1))\n",
    "result = mod.fit()\n",
    "result.summary()"
   ]
  },
  {
   "cell_type": "code",
   "execution_count": null,
   "id": "1c432d95-46d6-471e-b492-0732bcf389e4",
   "metadata": {},
   "outputs": [],
   "source": []
  }
 ],
 "metadata": {
  "colab": {
   "include_colab_link": true,
   "provenance": []
  },
  "kernelspec": {
   "display_name": "Python 3 (ipykernel)",
   "language": "python",
   "name": "python3"
  },
  "language_info": {
   "codemirror_mode": {
    "name": "ipython",
    "version": 3
   },
   "file_extension": ".py",
   "mimetype": "text/x-python",
   "name": "python",
   "nbconvert_exporter": "python",
   "pygments_lexer": "ipython3",
   "version": "3.9.1"
  }
 },
 "nbformat": 4,
 "nbformat_minor": 5
}
